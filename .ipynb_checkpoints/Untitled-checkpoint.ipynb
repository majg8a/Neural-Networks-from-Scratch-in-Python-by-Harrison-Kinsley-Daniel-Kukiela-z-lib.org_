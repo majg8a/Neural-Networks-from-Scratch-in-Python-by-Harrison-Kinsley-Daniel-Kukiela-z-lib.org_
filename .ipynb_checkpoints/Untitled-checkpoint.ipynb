{
 "cells": [
  {
   "cell_type": "code",
   "execution_count": 1,
   "id": "c976555a-cbec-4ac1-be72-d25a5a77aafa",
   "metadata": {
    "tags": []
   },
   "outputs": [],
   "source": [
    "import numpy as np"
   ]
  },
  {
   "cell_type": "code",
   "execution_count": 2,
   "id": "8b02fa31-76f6-4cff-aefe-287b189263bc",
   "metadata": {},
   "outputs": [],
   "source": [
    "import matplotlib.pyplot as plt"
   ]
  },
  {
   "cell_type": "code",
   "execution_count": 13,
   "id": "70857d39-ff96-4180-81c7-b808078d8ce3",
   "metadata": {},
   "outputs": [],
   "source": [
    "inputs = [1,2,3]\n",
    "weights = [.2,.8,-.5]\n",
    "bias = 2"
   ]
  },
  {
   "cell_type": "code",
   "execution_count": 10,
   "id": "9451c0a4-d240-49c2-81ee-6bbc671c7f47",
   "metadata": {},
   "outputs": [],
   "source": [
    "# output = np.dot( inputs , weights) + bias"
   ]
  },
  {
   "cell_type": "code",
   "execution_count": 11,
   "id": "372d887f-cb08-46aa-a475-cdc82b66c83e",
   "metadata": {},
   "outputs": [],
   "source": [
    "output = (inputs[0] * weights[0] +\n",
    "         inputs[1] * weights[1] +\n",
    "          inputs[2] * weights[2] +\n",
    "          bias )"
   ]
  },
  {
   "cell_type": "code",
   "execution_count": 12,
   "id": "faeab360-bd46-4570-96ee-9bc0eec5fb6f",
   "metadata": {},
   "outputs": [
    {
     "name": "stdout",
     "output_type": "stream",
     "text": [
      "2.3\n"
     ]
    }
   ],
   "source": [
    "print(output)"
   ]
  },
  {
   "cell_type": "code",
   "execution_count": 14,
   "id": "00bd4967-a485-446f-8b5c-95b28cc41c11",
   "metadata": {},
   "outputs": [],
   "source": [
    "inputs = [1,2,3,2.5]\n",
    "weights = [.2,.8,-.5,1]"
   ]
  },
  {
   "cell_type": "code",
   "execution_count": 15,
   "id": "750707e1-d8d6-4f22-ae4e-53c46f9e6b72",
   "metadata": {},
   "outputs": [],
   "source": [
    "output = (inputs[0] * weights[0] +\n",
    "         inputs[1] * weights[1] +\n",
    "          inputs[2] * weights[2] +\n",
    "          inputs[3] * weights[3] +\n",
    "          bias )"
   ]
  },
  {
   "cell_type": "code",
   "execution_count": 16,
   "id": "60d51591-8853-4721-b466-c527f8bcce31",
   "metadata": {},
   "outputs": [
    {
     "name": "stdout",
     "output_type": "stream",
     "text": [
      "4.8\n"
     ]
    }
   ],
   "source": [
    "print(output)"
   ]
  },
  {
   "cell_type": "code",
   "execution_count": null,
   "id": "0f83b8e8-a84e-4cfe-becb-8a7712607dab",
   "metadata": {},
   "outputs": [],
   "source": [
    "weights1 = [0.2, 0.8, -0.5, 1]\n",
    "weights2 = [0.5, -0.91, 0.26, -0.5]\n",
    "weights3 = [-0.26, -0.27, 0.17, 0.87]\n",
    "\n",
    "bias1 = 2\n",
    "bias2 = 3\n",
    "bias3 = 0.5\n",
    "\n",
    "outputs = [\n",
    "    # Neuron 1:\n",
    "    inputs[0]*weights1[0] +\n",
    "    inputs[1]*weights1[1] +\n",
    "    inputs[2]*weights1[2] +\n",
    "    inputs[3]*weights1[3] + bias1,\n",
    "    # Neuron 2:\n",
    "    inputs[0]*weights2[0] +\n",
    "    inputs[1]*weights2[1] +\n",
    "    inputs[2]*weights2[2] +\n",
    "    inputs[3]*weights2[3] + bias2,\n",
    "    # Neuron 3:\n",
    "    inputs[0]*weights3[0] +\n",
    "    inputs[1]*weights3[1] +\n",
    "    inputs[2]*weights3[2] +\n",
    "    inputs[3]*weights3[3] + bias3]\n",
    "    \n",
    "print(outputs)"
   ]
  }
 ],
 "metadata": {
  "kernelspec": {
   "display_name": "Python 3 (ipykernel)",
   "language": "python",
   "name": "python3"
  },
  "language_info": {
   "codemirror_mode": {
    "name": "ipython",
    "version": 3
   },
   "file_extension": ".py",
   "mimetype": "text/x-python",
   "name": "python",
   "nbconvert_exporter": "python",
   "pygments_lexer": "ipython3",
   "version": "3.10.8"
  }
 },
 "nbformat": 4,
 "nbformat_minor": 5
}
