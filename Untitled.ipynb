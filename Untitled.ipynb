{
 "cells": [
  {
   "cell_type": "code",
   "execution_count": null,
   "id": "c976555a-cbec-4ac1-be72-d25a5a77aafa",
   "metadata": {
    "tags": []
   },
   "outputs": [],
   "source": [
    "    import numpy as np"
   ]
  },
  {
   "cell_type": "code",
   "execution_count": null,
   "id": "8b02fa31-76f6-4cff-aefe-287b189263bc",
   "metadata": {},
   "outputs": [],
   "source": [
    "import matplotlib.pyplot as plt"
   ]
  },
  {
   "cell_type": "code",
   "execution_count": null,
   "id": "70857d39-ff96-4180-81c7-b808078d8ce3",
   "metadata": {},
   "outputs": [],
   "source": [
    "inputs = [1,2,3]\n",
    "weights = [.2,.8,-.5]\n",
    "bias = 2"
   ]
  },
  {
   "cell_type": "code",
   "execution_count": null,
   "id": "9451c0a4-d240-49c2-81ee-6bbc671c7f47",
   "metadata": {},
   "outputs": [],
   "source": [
    "# output = np.dot( inputs , weights) + bias"
   ]
  },
  {
   "cell_type": "code",
   "execution_count": null,
   "id": "372d887f-cb08-46aa-a475-cdc82b66c83e",
   "metadata": {},
   "outputs": [],
   "source": [
    "output = (inputs[0] * weights[0] +\n",
    "         inputs[1] * weights[1] +\n",
    "          inputs[2] * weights[2] +\n",
    "          bias )"
   ]
  },
  {
   "cell_type": "code",
   "execution_count": null,
   "id": "faeab360-bd46-4570-96ee-9bc0eec5fb6f",
   "metadata": {},
   "outputs": [
    {
     "name": "stdout",
     "output_type": "stream",
     "text": [
      "2.3\n"
     ]
    }
   ],
   "source": [
    "print(output)"
   ]
  },
  {
   "cell_type": "code",
   "execution_count": null,
   "id": "00bd4967-a485-446f-8b5c-95b28cc41c11",
   "metadata": {},
   "outputs": [],
   "source": [
    "inputs = [1,2,3,2.5]\n",
    "weights = [.2,.8,-.5,1]"
   ]
  },
  {
   "cell_type": "code",
   "execution_count": null,
   "id": "750707e1-d8d6-4f22-ae4e-53c46f9e6b72",
   "metadata": {},
   "outputs": [],
   "source": [
    "output = (inputs[0] * weights[0] +\n",
    "         inputs[1] * weights[1] +\n",
    "          inputs[2] * weights[2] +\n",
    "          inputs[3] * weights[3] +\n",
    "          bias )"
   ]
  },
  {
   "cell_type": "code",
   "execution_count": null,
   "id": "60d51591-8853-4721-b466-c527f8bcce31",
   "metadata": {},
   "outputs": [
    {
     "name": "stdout",
     "output_type": "stream",
     "text": [
      "4.8\n"
     ]
    }
   ],
   "source": [
    "print(output)"
   ]
  },
  {
   "cell_type": "code",
   "execution_count": null,
   "id": "0f83b8e8-a84e-4cfe-becb-8a7712607dab",
   "metadata": {},
   "outputs": [
    {
     "name": "stdout",
     "output_type": "stream",
     "text": [
      "[4.8, 1.21, 2.385]\n"
     ]
    }
   ],
   "source": [
    "weights1 = [0.2, 0.8, -0.5, 1]\n",
    "weights2 = [0.5, -0.91, 0.26, -0.5]\n",
    "weights3 = [-0.26, -0.27, 0.17, 0.87]\n",
    "\n",
    "bias1 = 2\n",
    "bias2 = 3\n",
    "bias3 = 0.5\n",
    "\n",
    "outputs = [\n",
    "    # Neuron 1:\n",
    "    inputs[0]*weights1[0] +\n",
    "    inputs[1]*weights1[1] +\n",
    "    inputs[2]*weights1[2] +\n",
    "    inputs[3]*weights1[3] + bias1,\n",
    "    # Neuron 2:\n",
    "    inputs[0]*weights2[0] +\n",
    "    inputs[1]*weights2[1] +\n",
    "    inputs[2]*weights2[2] +\n",
    "    inputs[3]*weights2[3] + bias2,\n",
    "    # Neuron 3:\n",
    "    inputs[0]*weights3[0] +\n",
    "    inputs[1]*weights3[1] +\n",
    "    inputs[2]*weights3[2] +\n",
    "    inputs[3]*weights3[3] + bias3]\n",
    "    \n",
    "print(outputs)"
   ]
  },
  {
   "cell_type": "code",
   "execution_count": null,
   "id": "009013cb-b520-4895-afbd-a4a885ddaba8",
   "metadata": {},
   "outputs": [
    {
     "name": "stdout",
     "output_type": "stream",
     "text": [
      "[4.8, 1.21, 2.385]\n"
     ]
    }
   ],
   "source": [
    "weights = [[0.2, 0.8, -0.5, 1],\n",
    "           [0.5, -0.91, 0.26, -0.5],\n",
    "           [-0.26, -0.27, 0.17, 0.87]]\n",
    "\n",
    "biases = [2, 3, .5]\n",
    "\n",
    "layer_outputs = []\n",
    "\n",
    "for neuron_weigths, neuron_bias in zip(weights, biases):\n",
    "    neuron_output = 0\n",
    "    for n_input, weight in zip(inputs, neuron_weigths):\n",
    "        neuron_output += n_input*weight\n",
    "    neuron_output += neuron_bias\n",
    "    layer_outputs.append(neuron_output)\n",
    "\n",
    "print(layer_outputs)"
   ]
  },
  {
   "cell_type": "code",
   "execution_count": null,
   "id": "4fbb33ac-542e-42a3-be78-b7666cb2939b",
   "metadata": {},
   "outputs": [
    {
     "name": "stdout",
     "output_type": "stream",
     "text": [
      "4.8\n"
     ]
    }
   ],
   "source": [
    "import numpy as np\n",
    "\n",
    "inputs = [1.0, 2.0, 3.0, 2.5]\n",
    "weights = [0.2, 0.8, -0.5, 1.0]\n",
    "bias = 2.0\n",
    "\n",
    "outputs = np.dot(weights, inputs) + bias\n",
    "print(outputs)"
   ]
  },
  {
   "cell_type": "code",
   "execution_count": null,
   "id": "c60a6cd5-2438-4ef1-8547-61bbb4ba77aa",
   "metadata": {},
   "outputs": [
    {
     "name": "stdout",
     "output_type": "stream",
     "text": [
      "[4.8   1.21  2.385]\n"
     ]
    }
   ],
   "source": [
    "import numpy as np\n",
    "\n",
    "inputs = [1.0, 2.0, 3.0, 2.5]\n",
    "weights = [[0.2, 0.8, -0.5, 1],\n",
    "[0.5, -0.91, 0.26, -0.5],\n",
    "[-0.26, -0.27, 0.17, 0.87]]\n",
    "biases = [2.0, 3.0, 0.5]\n",
    "\n",
    "layer_outputs = np.dot(weights, inputs) + biases\n",
    "\n",
    "print(layer_outputs)"
   ]
  },
  {
   "cell_type": "code",
   "execution_count": null,
   "id": "251b44b2-af38-49e5-913a-686dbf519bb8",
   "metadata": {},
   "outputs": [
    {
     "data": {
      "text/plain": [
       "array([[20]])"
      ]
     },
     "execution_count": 15,
     "metadata": {},
     "output_type": "execute_result"
    }
   ],
   "source": [
    "import numpy as np\n",
    "a = [1, 2, 3]\n",
    "b = [2, 3, 4]\n",
    "a = np.array([a])\n",
    "b = np.array([b]).T\n",
    "np.dot(a, b)"
   ]
  },
  {
   "cell_type": "code",
   "execution_count": null,
   "id": "81ec1115-6c1f-405e-996b-fab9febb916b",
   "metadata": {},
   "outputs": [
    {
     "name": "stdout",
     "output_type": "stream",
     "text": [
      "[[ 4.8    1.21   2.385]\n",
      " [ 8.9   -1.81   0.2  ]\n",
      " [ 1.41   1.051  0.026]]\n"
     ]
    }
   ],
   "source": [
    "import numpy as np\n",
    "\n",
    "inputs = [[1.0, 2.0, 3.0, 2.5],\n",
    "          [2.0, 5.0, -1.0, 2.0],\n",
    "          [-1.5, 2.7, 3.3, -0.8]]\n",
    "weights = [[0.2, 0.8, -0.5, 1.0],\n",
    "           [0.5, -0.91, 0.26, -0.5],\n",
    "           [-0.26, -0.27, 0.17, 0.87]]\n",
    "\n",
    "biases = [2.0, 3.0, 0.5]\n",
    "\n",
    "layer_outputs = np.dot(inputs, np.array(weights).T) + biases\n",
    "\n",
    "print(layer_outputs)"
   ]
  },
  {
   "cell_type": "code",
   "execution_count": null,
   "id": "ffc82815-9fde-403a-880d-1b47357223d9",
   "metadata": {},
   "outputs": [
    {
     "name": "stdout",
     "output_type": "stream",
     "text": [
      "[[ 0.5031  -1.04185 -2.03875]\n",
      " [ 0.2434  -2.7332  -5.7633 ]\n",
      " [-0.99314  1.41254 -0.35655]]\n"
     ]
    }
   ],
   "source": [
    "import numpy as np\n",
    "\n",
    "inputs = [[1, 2, 3, 2.5], [2., 5., -1., 2], [-1.5, 2.7, 3.3, -0.8]]\n",
    "weights = [[0.2, 0.8, -0.5, 1],\n",
    "           [0.5, -0.91, 0.26, -0.5],\n",
    "           [-0.26, -0.27, 0.17, 0.87]]\n",
    "biases = [2, 3, 0.5]\n",
    "weights2 = [[0.1, -0.14, 0.5],\n",
    "            [-0.5, 0.12, -0.33],\n",
    "            [-0.44, 0.73, -0.13]]\n",
    "biases2 = [-1, 2, -0.5]\n",
    "layer1_outputs = np.dot(inputs, np.array(weights).T) + biases\n",
    "layer2_outputs = np.dot(layer1_outputs, np.array(weights2).T) + biases2\n",
    "print(layer2_outputs)"
   ]
  },
  {
   "cell_type": "code",
   "execution_count": null,
   "id": "8c0d3fec-0d93-46de-8bc9-e62e3d7bb16d",
   "metadata": {},
   "outputs": [
    {
     "name": "stdout",
     "output_type": "stream",
     "text": [
      "Collecting nnfs\n",
      "  Downloading nnfs-0.5.1-py3-none-any.whl (9.1 kB)\n",
      "Requirement already satisfied: numpy in /opt/conda/lib/python3.10/site-packages (from nnfs) (1.23.5)\n",
      "Installing collected packages: nnfs\n",
      "Successfully installed nnfs-0.5.1\n"
     ]
    }
   ],
   "source": [
    "!pip install nnfs"
   ]
  },
  {
   "cell_type": "code",
   "execution_count": null,
   "id": "4a8edb5a-46bc-4872-89c4-59e440786510",
   "metadata": {},
   "outputs": [],
   "source": [
    "from nnfs.datasets import spiral_data"
   ]
  },
  {
   "cell_type": "code",
   "execution_count": null,
   "id": "7491c732-5515-4e72-a690-0759ba48c0c5",
   "metadata": {},
   "outputs": [],
   "source": [
    "import numpy as np\n",
    "import nnfs\n",
    "nnfs.init()"
   ]
  },
  {
   "cell_type": "code",
   "execution_count": null,
   "id": "7057958a-ad4d-4697-9ab3-04ab9268cb9e",
   "metadata": {},
   "outputs": [
    {
     "data": {
      "image/png": "[encoded data removed]",
      "text/plain": [
       "<Figure size 640x480 with 1 Axes>"
      ]
     },
     "metadata": {},
     "output_type": "display_data"
    }
   ],
   "source": [
    "import matplotlib.pyplot as plt\n",
    "X, y = spiral_data(samples=100, classes=3)\n",
    "plt.scatter(X[:,0], X[:,1])\n",
    "plt.show()"
   ]
  },
  {
   "cell_type": "code",
   "execution_count": null,
   "id": "11d53527-79ee-40ec-b69f-f815875ffec3",
   "metadata": {},
   "outputs": [
    {
     "data": {
      "image/png": "[encoded data removed]",
      "text/plain": [
       "<Figure size 640x480 with 1 Axes>"
      ]
     },
     "metadata": {},
     "output_type": "display_data"
    }
   ],
   "source": [
    "plt.scatter(X[:, 0], X[:, 1], c=y, cmap='brg')\n",
    "plt.show()"
   ]
  },
  {
   "cell_type": "code",
   "execution_count": null,
   "id": "4d740726-019c-4c3f-9f9d-6f532e142df0",
   "metadata": {},
   "outputs": [],
   "source": [
    "import numpy as np\n",
    "\n",
    "class Layer_Dense:\n",
    "    def __init__(self,n_inputs,n_neurons):\n",
    "        self.weights = 0.1 * np.random.randn(n_inputs,n_neurons)\n",
    "        self.biases = np.zeros((1,n_neurons))\n",
    "    \n",
    "    def forward(self,inputs):\n",
    "        self.output = np.dot(inputs, self.weights) + self.biases"
   ]
  },
  {
   "cell_type": "code",
   "execution_count": null,
   "id": "dc86dc99-bce8-4450-86d2-e8c3938501da",
   "metadata": {},
   "outputs": [
    {
     "name": "stdout",
     "output_type": "stream",
     "text": [
      "[[ 0.0000000e+00  0.0000000e+00  0.0000000e+00]\n",
      " [-1.1117104e-03 -5.1100750e-04 -1.1209981e-03]\n",
      " [ 2.9925766e-05 -2.6912661e-03 -1.4516510e-03]\n",
      " [ 8.9510187e-04 -4.3044225e-03 -1.6807980e-03]\n",
      " [-3.4989377e-03 -3.0720837e-03 -4.3300288e-03]]\n"
     ]
    }
   ],
   "source": [
    "X, y = spiral_data(samples=100, classes=3)\n",
    "\n",
    "# Create Dense layer with 2 input features and 3 output values\n",
    "dense1 = Layer_Dense(2, 3)\n",
    "\n",
    "# Perform a forward pass of our training data through this layer\n",
    "dense1.forward(X)\n",
    "\n",
    "# Let's see output of the first few samples:\n",
    "print(dense1.output[:5])"
   ]
  },
  {
   "cell_type": "code",
   "execution_count": null,
   "id": "a9c3d14c-1c25-4795-96cc-1315c9aea237",
   "metadata": {},
   "outputs": [
    {
     "name": "stdout",
     "output_type": "stream",
     "text": [
      "[[ 0.0000000e+00  0.0000000e+00  0.0000000e+00]\n",
      " [-1.0475188e-04  1.1395361e-04 -4.7983500e-05]\n",
      " [-2.7414842e-04  3.1729150e-04 -8.6921798e-05]\n",
      " [-4.2188365e-04  5.2666257e-04 -5.5912682e-05]\n",
      " [-5.7707680e-04  7.1401405e-04 -8.9430439e-05]]\n"
     ]
    }
   ],
   "source": [
    "import numpy as np\n",
    "import nnfs\n",
    "from nnfs.datasets import spiral_data\n",
    "nnfs.init()\n",
    "# Dense layer\n",
    "class Layer_Dense:\n",
    "    # Layer initialization\n",
    "    def __init__(self, n_inputs, n_neurons):\n",
    "        # Initialize weights and biases\n",
    "        self.weights = 0.01 * np.random.randn(n_inputs, n_neurons)\n",
    "        self.biases = np.zeros((1, n_neurons))\n",
    "    \n",
    "    def forward(self, inputs):\n",
    "        # Calculate output values from inputs, weights and biases\n",
    "        self.output = np.dot(inputs, self.weights) + self.biases\n",
    "    \n",
    "X, y = spiral_data(samples=100, classes=3)\n",
    "# Create Dense layer with 2 input features and 3 output values\n",
    "dense1 = Layer_Dense(2, 3)\n",
    "# Perform a forward pass of our training data through this layer\n",
    "dense1.forward(X)\n",
    "# Let's see output of the first few samples:\n",
    "print(dense1.output[:5])"
   ]
  },
  {
   "cell_type": "code",
   "execution_count": null,
   "id": "11fd8a9a-9fab-4a9f-9e38-c4db07846447",
   "metadata": {},
   "outputs": [
    {
     "name": "stdout",
     "output_type": "stream",
     "text": [
      "[0, 2, 0, 3.3, 0, 1.1, 2.2, 0]\n"
     ]
    }
   ],
   "source": [
    "#relu\n",
    "inputs = [0, 2, -1, 3.3, -2.7, 1.1, 2.2, -100]\n",
    "output = []\n",
    "for i in inputs:\n",
    "    if i > 0:\n",
    "        output.append(i)\n",
    "    else:\n",
    "        output.append(0)\n",
    "print(output)"
   ]
  },
  {
   "cell_type": "code",
   "execution_count": null,
   "id": "48a2995a-c2f9-4c9d-a4c6-456ed2cc4944",
   "metadata": {},
   "outputs": [
    {
     "name": "stdout",
     "output_type": "stream",
     "text": [
      "[0, 2, 0, 3.3, 0, 1.1, 2.2, 0]\n"
     ]
    }
   ],
   "source": [
    "inputs = [0, 2, -1, 3.3, -2.7, 1.1, 2.2, -100]\n",
    "output = []\n",
    "for i in inputs:\n",
    "    output.append(max(0, i))\n",
    "print(output)"
   ]
  },
  {
   "cell_type": "code",
   "execution_count": null,
   "id": "520dc8a6-0e96-426d-85ca-35bf9768b69a",
   "metadata": {},
   "outputs": [
    {
     "name": "stdout",
     "output_type": "stream",
     "text": [
      "[0.  2.  0.  3.3 0.  1.1 2.2 0. ]\n"
     ]
    }
   ],
   "source": [
    "import numpy as np\n",
    "inputs = [0, 2, -1, 3.3, -2.7, 1.1, 2.2, -100]\n",
    "output = np.maximum(0, inputs)\n",
    "print(output)"
   ]
  },
  {
   "cell_type": "code",
   "execution_count": null,
   "id": "bed9f7ef-1a01-44cb-882a-c64a62f23131",
   "metadata": {},
   "outputs": [],
   "source": [
    "# ReLU activation\n",
    "class Activation_ReLU:\n",
    "    # Forward pass\n",
    "    def forward(self, inputs):\n",
    "        # Calculate output values from input\n",
    "        self.output = np.maximum(0, inputs)"
   ]
  },
  {
   "cell_type": "code",
   "execution_count": null,
   "id": "3b0f3dbd-e26f-4e57-bfe4-3cd7b9634cda",
   "metadata": {},
   "outputs": [
    {
     "name": "stdout",
     "output_type": "stream",
     "text": [
      "[[0. 0. 0.]\n",
      " [0. 0. 0.]\n",
      " [0. 0. 0.]\n",
      " [0. 0. 0.]\n",
      " [0. 0. 0.]]\n"
     ]
    }
   ],
   "source": [
    "X, y = spiral_data(samples=100, classes=3)\n",
    "\n",
    "# Create Dense layer with 2 input features and 3 output values\n",
    "dense1 = Layer_Dense(2, 3)\n",
    "\n",
    "# Create ReLU activation (to be used with Dense layer):\n",
    "activation1 = Activation_ReLU()\n",
    "\n",
    "# Make a forward pass of our training data through this layer\n",
    "dense1.forward(X)\n",
    "\n",
    "# Forward pass through activation func.\n",
    "# Takes in output from previous layer\n",
    "activation1.forward(dense1.output)\n",
    "\n",
    "# Let's see output of the first few samples:\n",
    "print(activation1.output[:5])"
   ]
  },
  {
   "cell_type": "code",
   "execution_count": null,
   "id": "bb3af4a2-ac55-4e18-b08a-edbd48dfa337",
   "metadata": {},
   "outputs": [
    {
     "name": "stdout",
     "output_type": "stream",
     "text": [
      "exponentiated values:\n",
      "[121.51041751893969, 3.3534846525504487, 10.85906266492961]\n"
     ]
    }
   ],
   "source": [
    "#softmax\n",
    "\n",
    "# Values from the previous output when we described\n",
    "# what a neural network is\n",
    "layer_outputs = [4.8, 1.21, 2.385]\n",
    "# e - mathematical constant, we use E here to match a common coding\n",
    "# style where constants are uppercased\n",
    "E = 2.71828182846 # you can also use math.e\n",
    "# For each value in a vector, calculate the exponential value\n",
    "exp_values = []\n",
    "for output in layer_outputs:\n",
    "    exp_values.append(E ** output) # ** - power operator in Python\n",
    "print('exponentiated values:')\n",
    "print(exp_values)"
   ]
  },
  {
   "cell_type": "code",
   "execution_count": null,
   "id": "50f849a8-c06e-44bb-bcf9-c3a9cdcc6532",
   "metadata": {},
   "outputs": [
    {
     "name": "stdout",
     "output_type": "stream",
     "text": [
      "Normalized exponentiated values:\n",
      "[0.8952826639573506, 0.024708306782070668, 0.08000902926057876]\n",
      "Sum of normalized values: 1.0\n"
     ]
    }
   ],
   "source": [
    "# Now normalize values\n",
    "norm_base = sum(exp_values) # We sum all values\n",
    "norm_values = []\n",
    "for value in exp_values:\n",
    "    norm_values.append(value / norm_base)\n",
    "print('Normalized exponentiated values:')\n",
    "print(norm_values)\n",
    "print('Sum of normalized values:', sum(norm_values))"
   ]
  },
  {
   "cell_type": "code",
   "execution_count": null,
   "id": "bb3fc733-6568-4928-83ff-49efeae109d3",
   "metadata": {},
   "outputs": [
    {
     "name": "stdout",
     "output_type": "stream",
     "text": [
      "exponentiated values:\n",
      "[121.51041752   3.35348465  10.85906266]\n",
      "normalized exponentiated values:\n",
      "[0.89528266 0.02470831 0.08000903]\n",
      "sum of normalized values: 0.9999999999999999\n"
     ]
    }
   ],
   "source": [
    "import numpy as np\n",
    "\n",
    "# Values from the earlier previous when we described\n",
    "# what a neural network is\n",
    "layer_outputs = [4.8, 1.21, 2.385]\n",
    "\n",
    "# For each value in a vector, calculate the exponential value\n",
    "exp_values = np.exp(layer_outputs)\n",
    "print('exponentiated values:')\n",
    "print(exp_values)\n",
    "\n",
    "# Now normalize values\n",
    "norm_values = exp_values / np.sum(exp_values)\n",
    "print('normalized exponentiated values:')\n",
    "print(norm_values)\n",
    "print('sum of normalized values:', np.sum(norm_values))"
   ]
  },
  {
   "cell_type": "code",
   "execution_count": null,
   "id": "00406c8e-30bf-4d38-aca4-a1b6f24cdb08",
   "metadata": {},
   "outputs": [],
   "source": [
    "import numpy as np\n",
    "\n",
    "# Softmax activation\n",
    "class Activation_Softmax:\n",
    "    # Forward pass\n",
    "    def forward(self, inputs):\n",
    "        \n",
    "        # Get unnormalized probabilities\n",
    "        exp_values = np.exp(inputs - np.max(inputs, axis=1,\n",
    "        keepdims=True))\n",
    "        \n",
    "        # Normalize them for each sample\n",
    "        probabilities = exp_values / np.sum(exp_values, axis=1,\n",
    "        keepdims=True)\n",
    "        \n",
    "        self.output = probabilities"
   ]
  },
  {
   "cell_type": "code",
   "execution_count": null,
   "id": "4f5a000b-e2fb-4556-a1d3-f135f78b1c0d",
   "metadata": {},
   "outputs": [
    {
     "name": "stdout",
     "output_type": "stream",
     "text": [
      "[[0.33333334 0.33333334 0.33333334]\n",
      " [0.33333364 0.3333334  0.3333329 ]\n",
      " [0.33333385 0.33333346 0.33333266]\n",
      " [0.33333433 0.3333336  0.3333321 ]\n",
      " [0.33333465 0.33333373 0.33333164]]\n"
     ]
    }
   ],
   "source": [
    "# Create dataset\n",
    "X, y = spiral_data(samples=100, classes=3)\n",
    "\n",
    "# Create Dense layer with 2 input features and 3 output values\n",
    "dense1 = Layer_Dense(2, 3)\n",
    "\n",
    "# Create ReLU activation (to be used with Dense layer):\n",
    "activation1 = Activation_ReLU()\n",
    "\n",
    "# Create second Dense layer with 3 input features (as we take output\n",
    "# of previous layer here) and 3 output values\n",
    "dense2 = Layer_Dense(3, 3)\n",
    "\n",
    "# Create Softmax activation (to be used with Dense layer):\n",
    "activation2 = Activation_Softmax()\n",
    "\n",
    "# Make a forward pass of our training data through this layer\n",
    "dense1.forward(X)\n",
    "\n",
    "# Make a forward pass through activation function\n",
    "# it takes the output of first dense layer here\n",
    "activation1.forward(dense1.output)\n",
    "\n",
    "# Make a forward pass through second Dense layer\n",
    "# it takes outputs of activation function of first layer as inputs\n",
    "dense2.forward(activation1.output)\n",
    "\n",
    "# Make a forward pass through activation function\n",
    "# it takes the output of second dense layer here\n",
    "activation2.forward(dense2.output)\n",
    "\n",
    "# Let's see output of the first few samples:\n",
    "print(activation2.output[:5])"
   ]
  },
  {
   "cell_type": "code",
   "execution_count": null,
   "id": "742e9429-e068-44ce-9d60-89280d2417ed",
   "metadata": {},
   "outputs": [
    {
     "name": "stdout",
     "output_type": "stream",
     "text": [
      "[[0.33333334 0.33333334 0.33333334]\n",
      " [0.3333332  0.3333332  0.33333364]\n",
      " [0.3333329  0.33333293 0.3333342 ]\n",
      " [0.3333326  0.33333263 0.33333477]\n",
      " [0.33333233 0.3333324  0.33333528]]\n"
     ]
    }
   ],
   "source": [
    "#FULL CODE\n",
    "import numpy as np\n",
    "import nnfs\n",
    "from nnfs.datasets import spiral_data\n",
    "\n",
    "nnfs.init()\n",
    "\n",
    "# Dense layer\n",
    "class Layer_Dense:\n",
    "    # Layer initialization\n",
    "    def __init__(self, n_inputs, n_neurons):\n",
    "        # Initialize weights and biases\n",
    "        self.weights = 0.01 * np.random.randn(n_inputs, n_neurons)\n",
    "        self.biases = np.zeros((1, n_neurons))\n",
    "    # Forward pass\n",
    "    def forward(self, inputs):\n",
    "        # Calculate output values from inputs, weights and biases\n",
    "        self.output = np.dot(inputs, self.weights) + self.biases\n",
    "        \n",
    "# ReLU activation\n",
    "class Activation_ReLU:\n",
    "    # Forward pass\n",
    "    def forward(self, inputs):\n",
    "        # Calculate output values from inputs\n",
    "        self.output = np.maximum(0, inputs)\n",
    "\n",
    "# Softmax activation\n",
    "class Activation_Softmax:\n",
    "    # Forward pass\n",
    "    def forward(self, inputs):\n",
    "        # Get unnormalized probabilities\n",
    "        exp_values = np.exp(inputs - np.max(inputs, axis=1,\n",
    "        keepdims=True))\n",
    "        # Normalize them for each sample\n",
    "        probabilities = exp_values / np.sum(exp_values, axis=1,\n",
    "        keepdims=True)\n",
    "        self.output = probabilities\n",
    "\n",
    "# Create dataset\n",
    "X, y = spiral_data(samples=100, classes=3)\n",
    "\n",
    "# Create Dense layer with 2 input features and 3 output values\n",
    "dense1 = Layer_Dense(2, 3)\n",
    "\n",
    "# Create ReLU activation (to be used with Dense layer):\n",
    "activation1 = Activation_ReLU()\n",
    "\n",
    "# Create second Dense layer with 3 input features (as we take output\n",
    "# of previous layer here) and 3 output values (output values)\n",
    "dense2 = Layer_Dense(3, 3)\n",
    "\n",
    "# Create Softmax activation (to be used with Dense layer):\n",
    "activation2 = Activation_Softmax()\n",
    "\n",
    "# Make a forward pass of our training data through this layer\n",
    "dense1.forward(X)\n",
    "\n",
    "# Make a forward pass through activation function\n",
    "# it takes the output of first dense layer here\n",
    "activation1.forward(dense1.output)\n",
    "\n",
    "# Make a forward pass through second Dense layer\n",
    "# it takes outputs of activation function of first layer as inputs\n",
    "dense2.forward(activation1.output)\n",
    "\n",
    "# Make a forward pass through activation function\n",
    "# it takes the output of second dense layer here\n",
    "activation2.forward(dense2.output)\n",
    "\n",
    "# Let's see output of the first few samples:\n",
    "print(activation2.output[:5])"
   ]
  },
  {
   "cell_type": "code",
   "execution_count": null,
   "id": "4bb81a30-6730-494e-910d-723d0672db5f",
   "metadata": {},
   "outputs": [
    {
     "name": "stdout",
     "output_type": "stream",
     "text": [
      "0.35667494393873245\n"
     ]
    }
   ],
   "source": [
    "import math\n",
    "\n",
    "# An example output from the output layer of the neural network\n",
    "softmax_output = [0.7, 0.1, 0.2]\n",
    "\n",
    "# Ground truth\n",
    "target_output = [1, 0, 0]\n",
    "loss = -(math.log(softmax_output[0])*target_output[0] +\n",
    "math.log(softmax_output[1])*target_output[1] +\n",
    "math.log(softmax_output[2])*target_output[2])\n",
    "\n",
    "print(loss)"
   ]
  },
  {
   "cell_type": "code",
   "execution_count": null,
   "id": "2a2f1976-d875-4f16-83ac-42cc8d5f000a",
   "metadata": {},
   "outputs": [
    {
     "name": "stdout",
     "output_type": "stream",
     "text": [
      "[0.7 0.5 0.9]\n"
     ]
    }
   ],
   "source": [
    "softmax_outputs = np.array([[0.7, 0.1, 0.2],\n",
    "[0.1, 0.5, 0.4],\n",
    "[0.02, 0.9, 0.08]])\n",
    "class_targets = [0, 1, 1]\n",
    "\n",
    "print(softmax_outputs[[0, 1, 2], class_targets])\n"
   ]
  },
  {
   "cell_type": "code",
   "execution_count": 41,
   "id": "824ea530-f7e2-4e43-a6fa-179e5f854bd7",
   "metadata": {},
   "outputs": [
    {
     "name": "stdout",
     "output_type": "stream",
     "text": [
      "[0.7 0.5 0.9]\n"
     ]
    }
   ],
   "source": [
    "print(softmax_outputs[\n",
    "range(len(softmax_outputs)), class_targets\n",
    "])"
   ]
  },
  {
   "cell_type": "code",
   "execution_count": 43,
   "id": "1a1d9986-c5fe-4682-bb38-bafe28eea4d0",
   "metadata": {},
   "outputs": [
    {
     "name": "stdout",
     "output_type": "stream",
     "text": [
      "0.38506088005216804\n"
     ]
    }
   ],
   "source": [
    "neg_log = -np.log(softmax_outputs[\n",
    "range(len(softmax_outputs)), class_targets\n",
    "])\n",
    "average_loss = np.mean(neg_log)\n",
    "print(average_loss)"
   ]
  },
  {
   "cell_type": "code",
   "execution_count": 45,
   "id": "f669315a-0046-4484-9b55-7c473c224de3",
   "metadata": {},
   "outputs": [
    {
     "name": "stdout",
     "output_type": "stream",
     "text": [
      "0.38506088005216804\n"
     ]
    }
   ],
   "source": [
    "import numpy as np\n",
    "\n",
    "softmax_outputs = np.array([[0.7, 0.1, 0.2],\n",
    "                            [0.1, 0.5, 0.4],\n",
    "                            [0.02, 0.9, 0.08]])\n",
    "class_targets = np.array([[1, 0, 0],\n",
    "                          [0, 1, 0],\n",
    "                          [0, 1, 0]])\n",
    "\n",
    "# Probabilities for target values -\n",
    "# only if categorical labels\n",
    "if len(class_targets.shape) == 1:\n",
    "    correct_confidences = softmax_outputs[\n",
    "        range(len(softmax_outputs)),\n",
    "        class_targets\n",
    "    ]\n",
    "elif len(class_targets.shape) == 2:\n",
    "    correct_confidences = np.sum(\n",
    "        softmax_outputs * class_targets,\n",
    "        axis=1\n",
    "    )\n",
    "# Losses\n",
    "neg_log = -np.log(correct_confidences)\n",
    "average_loss = np.mean(neg_log)\n",
    "print(average_loss)\n"
   ]
  },
  {
   "cell_type": "code",
   "execution_count": 1,
   "id": "3bf1342c-3b5f-4102-ab92-8cfe8b37f11f",
   "metadata": {},
   "outputs": [
    {
     "data": {
      "text/plain": [
       "16.11809565095832"
      ]
     },
     "execution_count": 1,
     "metadata": {},
     "output_type": "execute_result"
    }
   ],
   "source": [
    "import numpy as np\n",
    "-np.log(1e-7)"
   ]
  },
  {
   "cell_type": "code",
   "execution_count": 2,
   "id": "f7bb5d78-5f03-49a8-a504-5fcd72d4c230",
   "metadata": {},
   "outputs": [],
   "source": [
    "# Common loss class\n",
    "class Loss:\n",
    "    \n",
    "    # Calculates the data and regularization losses\n",
    "    # given model output and ground truth values\n",
    "    def calculate(self, output, y):\n",
    "        \n",
    "        # Calculate sample losses\n",
    "        sample_losses = self.forward(output, y)\n",
    "        \n",
    "        # Calculate mean loss\n",
    "        data_loss = np.mean(sample_losses)\n",
    "        \n",
    "        # Return loss\n",
    "        return data_loss"
   ]
  },
  {
   "cell_type": "code",
   "execution_count": 3,
   "id": "a09b9b8d-ece6-4a35-a3c4-698ac705b197",
   "metadata": {},
   "outputs": [],
   "source": [
    "# Cross-entropy loss\n",
    "class Loss_CategoricalCrossentropy(Loss):\n",
    "\n",
    "    # Forward pass\n",
    "    def forward(self, y_pred, y_true):\n",
    "        # Number of samples in a batch\n",
    "        samples = len(y_pred)\n",
    "\n",
    "        # Clip data to prevent division by 0\n",
    "        # Clip both sides to not drag mean towards any value\n",
    "        y_pred_clipped = np.clip(y_pred, 1e-7, 1 - 1e-7)\n",
    "\n",
    "        # Probabilities for target values -\n",
    "        # only if categorical labels\n",
    "        if len(y_true.shape) == 1:\n",
    "            correct_confidences = y_pred_clipped[\n",
    "                range(samples),\n",
    "                y_true\n",
    "            ]\n",
    "        # Mask values - only for one-hot encoded labels\n",
    "        elif len(y_true.shape) == 2:\n",
    "            correct_confidences = np.sum(\n",
    "                y_pred_clipped * y_true,\n",
    "                axis=1\n",
    "            )\n",
    "        # Losses\n",
    "        negative_log_likelihoods = -np.log(correct_confidences)\n",
    "        return negative_log_likelihoods\n"
   ]
  },
  {
   "cell_type": "code",
   "execution_count": 1,
   "id": "bf1a3030-3f34-4efd-8b0a-e4e972573ad1",
   "metadata": {},
   "outputs": [
    {
     "name": "stdout",
     "output_type": "stream",
     "text": [
      "[[0.33333334 0.33333334 0.33333334]\n",
      " [0.3333332  0.3333332  0.33333364]\n",
      " [0.3333329  0.33333293 0.3333342 ]\n",
      " [0.3333326  0.33333263 0.33333477]\n",
      " [0.33333233 0.3333324  0.33333528]]\n",
      "loss: 1.0986104\n"
     ]
    }
   ],
   "source": [
    "# CHECKPOINT\n",
    "import numpy as np\n",
    "import nnfs\n",
    "from nnfs.datasets import spiral_data\n",
    "\n",
    "nnfs.init()\n",
    "# Dense layer\n",
    "\n",
    "\n",
    "class Layer_Dense:\n",
    "    # Layer initialization\n",
    "\n",
    "    def __init__(self, n_inputs, n_neurons):\n",
    "\n",
    "        # Initialize weights and biases\n",
    "        self.weights = 0.01 * np.random.randn(n_inputs, n_neurons)\n",
    "        self.biases = np.zeros((1, n_neurons))\n",
    "# Forward pass\n",
    "\n",
    "    def forward(self, inputs):\n",
    "\n",
    "        # Calculate output values from inputs, weights and biases\n",
    "        self.output = np.dot(inputs, self.weights) + self.biases\n",
    "# ReLU activation\n",
    "\n",
    "\n",
    "class Activation_ReLU:\n",
    "    # Forward pass\n",
    "\n",
    "    def forward(self, inputs):\n",
    "\n",
    "        # Calculate output values from inputs\n",
    "        self.output = np.maximum(0, inputs)\n",
    "\n",
    "# Softmax activation\n",
    "\n",
    "\n",
    "class Activation_Softmax:\n",
    "    # Forward pass\n",
    "\n",
    "    def forward(self, inputs):\n",
    "\n",
    "        # Get unnormalized probabilities\n",
    "        exp_values = np.exp(inputs - np.max(inputs, axis=1,\n",
    "                                            keepdims=True))\n",
    "        # Normalize them for each sample\n",
    "        probabilities = exp_values / np.sum(exp_values, axis=1,\n",
    "                                            keepdims=True)\n",
    "        self.output = probabilities\n",
    "        # Common loss class\n",
    "\n",
    "\n",
    "class Loss:\n",
    "    # Calculates the data and regularization losses\n",
    "    # given model output and ground truth values\n",
    "\n",
    "    def calculate(self, output, y):\n",
    "\n",
    "        # Calculate sample losses\n",
    "        sample_losses = self.forward(output, y)\n",
    "        # Calculate mean loss\n",
    "        data_loss = np.mean(sample_losses)\n",
    "        # Return loss\n",
    "        return data_loss\n",
    "\n",
    "# Cross-entropy loss\n",
    "\n",
    "\n",
    "class Loss_CategoricalCrossentropy(Loss):\n",
    "    # Forward pass\n",
    "\n",
    "    def forward(self, y_pred, y_true):\n",
    "\n",
    "        # Number of samples in a batch\n",
    "        samples = len(y_pred)\n",
    "        # Clip data to prevent division by 0\n",
    "        # Clip both sides to not drag mean towards any value\n",
    "        y_pred_clipped = np.clip(y_pred, 1e-7, 1 - 1e-7)\n",
    "\n",
    "        # Probabilities for target values -\n",
    "        # only if categorical labels\n",
    "        if len(y_true.shape) == 1:\n",
    "            correct_confidences = y_pred_clipped[\n",
    "                range(samples),\n",
    "                y_true\n",
    "            ]\n",
    "        # Mask values - only for one-hot encoded labels\n",
    "        elif len(y_true.shape) == 2:\n",
    "            correct_confidences = np.sum(\n",
    "                y_pred_clipped * y_true,\n",
    "                axis=1\n",
    "            )\n",
    "        # Losses\n",
    "        negative_log_likelihoods = -np.log(correct_confidences)\n",
    "        return negative_log_likelihoods\n",
    "\n",
    "\n",
    "# Create dataset\n",
    "X, y = spiral_data(samples=100, classes=3)\n",
    "\n",
    "# Create Dense layer with 2 input features and 3 output values\n",
    "dense1 = Layer_Dense(2, 3)\n",
    "\n",
    "# Create ReLU activation (to be used with Dense layer):\n",
    "activation1 = Activation_ReLU()\n",
    "\n",
    "# Create second Dense layer with 3 input features (as we take output\n",
    "# of previous layer here) and 3 output values\n",
    "dense2 = Layer_Dense(3, 3)\n",
    "\n",
    "# Create Softmax activation (to be used with Dense layer):\n",
    "activation2 = Activation_Softmax()\n",
    "\n",
    "# Create loss function\n",
    "loss_function = Loss_CategoricalCrossentropy()\n",
    "\n",
    "# Perform a forward pass of our training data through this layer\n",
    "dense1.forward(X)\n",
    "\n",
    "# Perform a forward pass through activation function\n",
    "# it takes the output of first dense layer here\n",
    "activation1.forward(dense1.output)\n",
    "\n",
    "# Perform a forward pass through second Dense layer\n",
    "# it takes outputs of activation function of first layer as inputs\n",
    "dense2.forward(activation1.output)\n",
    "\n",
    "# Perform a forward pass through activation function\n",
    "# it takes the output of second dense layer here\n",
    "activation2.forward(dense2.output)\n",
    "\n",
    "# Let's see output of the first few samples:\n",
    "print(activation2.output[:5])\n",
    "\n",
    "# Perform a forward pass through loss function\n",
    "# it takes the output of second dense layer here and returns loss\n",
    "loss = loss_function.calculate(activation2.output, y)\n",
    "\n",
    "# Print loss value\n",
    "print('loss:', loss)\n"
   ]
  },
  {
   "cell_type": "code",
   "execution_count": 2,
   "id": "fb2cd932-7b62-4182-853f-d08722073b68",
   "metadata": {},
   "outputs": [
    {
     "data": {
      "image/png": "[encoded data removed]",
      "text/plain": [
       "<Figure size 640x480 with 1 Axes>"
      ]
     },
     "metadata": {},
     "output_type": "display_data"
    }
   ],
   "source": [
    "import matplotlib.pyplot as plt\n",
    "import nnfs\n",
    "from nnfs.datasets import vertical_data\n",
    "nnfs.init()\n",
    "X, y = vertical_data(samples=100, classes=3)\n",
    "plt.scatter(X[:, 0], X[:, 1], c=y, s=40, cmap='brg')\n",
    "plt.show()"
   ]
  },
  {
   "cell_type": "code",
   "execution_count": 3,
   "id": "d4e05e9d-8d2f-43fa-bd7a-8f67d64e2e68",
   "metadata": {},
   "outputs": [
    {
     "name": "stdout",
     "output_type": "stream",
     "text": [
      "New set of weights found, iteration: 0 loss: 1.1017722 acc: 0.3333333333333333\n",
      "New set of weights found, iteration: 5 loss: 1.1001782 acc: 0.3333333333333333\n",
      "New set of weights found, iteration: 6 loss: 1.0989254 acc: 0.3333333333333333\n",
      "New set of weights found, iteration: 10 loss: 1.0988185 acc: 0.3333333333333333\n",
      "New set of weights found, iteration: 12 loss: 1.0984759 acc: 0.3333333333333333\n",
      "New set of weights found, iteration: 14 loss: 1.0980217 acc: 0.3333333333333333\n",
      "New set of weights found, iteration: 16 loss: 1.0975149 acc: 0.3333333333333333\n",
      "New set of weights found, iteration: 21 loss: 1.0966917 acc: 0.3333333333333333\n",
      "New set of weights found, iteration: 28 loss: 1.09616 acc: 0.3333333333333333\n",
      "New set of weights found, iteration: 29 loss: 1.0954788 acc: 0.3333333333333333\n",
      "New set of weights found, iteration: 32 loss: 1.0944381 acc: 0.3333333333333333\n",
      "New set of weights found, iteration: 33 loss: 1.0921898 acc: 0.3333333333333333\n",
      "New set of weights found, iteration: 37 loss: 1.0874608 acc: 0.3333333333333333\n",
      "New set of weights found, iteration: 38 loss: 1.0874476 acc: 0.3433333333333333\n",
      "New set of weights found, iteration: 41 loss: 1.0828313 acc: 0.53\n",
      "New set of weights found, iteration: 43 loss: 1.0798479 acc: 0.92\n",
      "New set of weights found, iteration: 51 loss: 1.0778736 acc: 0.8366666666666667\n",
      "New set of weights found, iteration: 52 loss: 1.0763745 acc: 0.3333333333333333\n",
      "New set of weights found, iteration: 56 loss: 1.0738853 acc: 0.5133333333333333\n",
      "New set of weights found, iteration: 59 loss: 1.0694466 acc: 0.3333333333333333\n",
      "New set of weights found, iteration: 60 loss: 1.0663078 acc: 0.8233333333333334\n",
      "New set of weights found, iteration: 61 loss: 1.0610188 acc: 0.71\n",
      "New set of weights found, iteration: 63 loss: 1.0578113 acc: 0.6666666666666666\n",
      "New set of weights found, iteration: 64 loss: 1.0574052 acc: 0.66\n",
      "New set of weights found, iteration: 65 loss: 1.0554955 acc: 0.6666666666666666\n",
      "New set of weights found, iteration: 67 loss: 1.0537376 acc: 0.6666666666666666\n",
      "New set of weights found, iteration: 69 loss: 1.0508267 acc: 0.6333333333333333\n",
      "New set of weights found, iteration: 70 loss: 1.0503366 acc: 0.6\n",
      "New set of weights found, iteration: 72 loss: 1.0344659 acc: 0.6066666666666667\n",
      "New set of weights found, iteration: 76 loss: 1.029596 acc: 0.6433333333333333\n",
      "New set of weights found, iteration: 77 loss: 1.0295238 acc: 0.66\n",
      "New set of weights found, iteration: 79 loss: 1.0200081 acc: 0.6033333333333334\n",
      "New set of weights found, iteration: 80 loss: 1.0158147 acc: 0.6666666666666666\n",
      "New set of weights found, iteration: 83 loss: 1.0135654 acc: 0.66\n",
      "New set of weights found, iteration: 89 loss: 1.0131539 acc: 0.6333333333333333\n",
      "New set of weights found, iteration: 92 loss: 1.0112988 acc: 0.6433333333333333\n",
      "New set of weights found, iteration: 94 loss: 1.0091348 acc: 0.9333333333333333\n",
      "New set of weights found, iteration: 95 loss: 1.0026184 acc: 0.66\n",
      "New set of weights found, iteration: 97 loss: 0.9923932 acc: 0.8966666666666666\n",
      "New set of weights found, iteration: 99 loss: 0.99066955 acc: 0.9466666666666667\n",
      "New set of weights found, iteration: 101 loss: 0.98857033 acc: 0.9133333333333333\n",
      "New set of weights found, iteration: 107 loss: 0.9870687 acc: 0.7533333333333333\n",
      "New set of weights found, iteration: 109 loss: 0.9676757 acc: 0.7366666666666667\n",
      "New set of weights found, iteration: 110 loss: 0.9671281 acc: 0.6366666666666667\n",
      "New set of weights found, iteration: 112 loss: 0.96469104 acc: 0.6366666666666667\n",
      "New set of weights found, iteration: 118 loss: 0.95824414 acc: 0.6433333333333333\n",
      "New set of weights found, iteration: 119 loss: 0.9507609 acc: 0.5933333333333334\n",
      "New set of weights found, iteration: 126 loss: 0.9387007 acc: 0.64\n",
      "New set of weights found, iteration: 128 loss: 0.92837095 acc: 0.8233333333333334\n",
      "New set of weights found, iteration: 130 loss: 0.92729837 acc: 0.6666666666666666\n",
      "New set of weights found, iteration: 134 loss: 0.90498364 acc: 0.6666666666666666\n",
      "New set of weights found, iteration: 136 loss: 0.8939356 acc: 0.6666666666666666\n",
      "New set of weights found, iteration: 141 loss: 0.8872502 acc: 0.6666666666666666\n",
      "New set of weights found, iteration: 143 loss: 0.88496554 acc: 0.6666666666666666\n",
      "New set of weights found, iteration: 144 loss: 0.8721859 acc: 0.7633333333333333\n",
      "New set of weights found, iteration: 146 loss: 0.87120384 acc: 0.79\n",
      "New set of weights found, iteration: 147 loss: 0.8610748 acc: 0.8666666666666667\n",
      "New set of weights found, iteration: 149 loss: 0.85607433 acc: 0.6666666666666666\n",
      "New set of weights found, iteration: 150 loss: 0.8393095 acc: 0.6666666666666666\n",
      "New set of weights found, iteration: 152 loss: 0.8365909 acc: 0.6666666666666666\n",
      "New set of weights found, iteration: 154 loss: 0.81790227 acc: 0.6966666666666667\n",
      "New set of weights found, iteration: 155 loss: 0.8003528 acc: 0.7233333333333334\n",
      "New set of weights found, iteration: 158 loss: 0.7837691 acc: 0.7533333333333333\n",
      "New set of weights found, iteration: 159 loss: 0.781438 acc: 0.73\n",
      "New set of weights found, iteration: 160 loss: 0.7764599 acc: 0.71\n",
      "New set of weights found, iteration: 164 loss: 0.7663694 acc: 0.71\n",
      "New set of weights found, iteration: 167 loss: 0.7507484 acc: 0.7633333333333333\n",
      "New set of weights found, iteration: 169 loss: 0.7417443 acc: 0.8033333333333333\n",
      "New set of weights found, iteration: 170 loss: 0.73476386 acc: 0.8366666666666667\n",
      "New set of weights found, iteration: 171 loss: 0.7335226 acc: 0.6866666666666666\n",
      "New set of weights found, iteration: 173 loss: 0.7246975 acc: 0.79\n",
      "New set of weights found, iteration: 174 loss: 0.72313696 acc: 0.6933333333333334\n",
      "New set of weights found, iteration: 182 loss: 0.7205985 acc: 0.86\n",
      "New set of weights found, iteration: 183 loss: 0.7180074 acc: 0.9033333333333333\n",
      "New set of weights found, iteration: 194 loss: 0.7102255 acc: 0.9166666666666666\n",
      "New set of weights found, iteration: 199 loss: 0.7006643 acc: 0.8833333333333333\n",
      "New set of weights found, iteration: 200 loss: 0.69691193 acc: 0.8833333333333333\n",
      "New set of weights found, iteration: 202 loss: 0.6923575 acc: 0.7766666666666666\n",
      "New set of weights found, iteration: 204 loss: 0.68877983 acc: 0.8233333333333334\n",
      "New set of weights found, iteration: 209 loss: 0.6725482 acc: 0.7766666666666666\n",
      "New set of weights found, iteration: 217 loss: 0.6675149 acc: 0.8\n",
      "New set of weights found, iteration: 219 loss: 0.6670804 acc: 0.7933333333333333\n",
      "New set of weights found, iteration: 222 loss: 0.6662146 acc: 0.7966666666666666\n",
      "New set of weights found, iteration: 223 loss: 0.66433233 acc: 0.8\n",
      "New set of weights found, iteration: 227 loss: 0.659061 acc: 0.7333333333333333\n",
      "New set of weights found, iteration: 230 loss: 0.65610033 acc: 0.7333333333333333\n",
      "New set of weights found, iteration: 232 loss: 0.647338 acc: 0.7466666666666667\n",
      "New set of weights found, iteration: 233 loss: 0.63770276 acc: 0.7366666666666667\n",
      "New set of weights found, iteration: 239 loss: 0.6301001 acc: 0.74\n",
      "New set of weights found, iteration: 240 loss: 0.62453806 acc: 0.7233333333333334\n",
      "New set of weights found, iteration: 243 loss: 0.6184058 acc: 0.74\n",
      "New set of weights found, iteration: 245 loss: 0.61487395 acc: 0.8666666666666667\n",
      "New set of weights found, iteration: 246 loss: 0.6050747 acc: 0.88\n",
      "New set of weights found, iteration: 248 loss: 0.6013623 acc: 0.8866666666666667\n",
      "New set of weights found, iteration: 251 loss: 0.59518635 acc: 0.8666666666666667\n",
      "New set of weights found, iteration: 255 loss: 0.5927457 acc: 0.8733333333333333\n",
      "New set of weights found, iteration: 259 loss: 0.59268415 acc: 0.83\n",
      "New set of weights found, iteration: 260 loss: 0.5893745 acc: 0.8333333333333334\n",
      "New set of weights found, iteration: 261 loss: 0.5728255 acc: 0.8266666666666667\n",
      "New set of weights found, iteration: 263 loss: 0.57228965 acc: 0.7866666666666666\n",
      "New set of weights found, iteration: 264 loss: 0.562897 acc: 0.7566666666666667\n",
      "New set of weights found, iteration: 266 loss: 0.5599282 acc: 0.7666666666666667\n",
      "New set of weights found, iteration: 268 loss: 0.5576855 acc: 0.7733333333333333\n",
      "New set of weights found, iteration: 269 loss: 0.55601954 acc: 0.7733333333333333\n",
      "New set of weights found, iteration: 271 loss: 0.55082476 acc: 0.8366666666666667\n",
      "New set of weights found, iteration: 273 loss: 0.54594576 acc: 0.7866666666666666\n",
      "New set of weights found, iteration: 279 loss: 0.5448725 acc: 0.7733333333333333\n",
      "New set of weights found, iteration: 282 loss: 0.54377455 acc: 0.7866666666666666\n",
      "New set of weights found, iteration: 284 loss: 0.53914934 acc: 0.7866666666666666\n",
      "New set of weights found, iteration: 285 loss: 0.5386781 acc: 0.77\n",
      "New set of weights found, iteration: 286 loss: 0.5385286 acc: 0.7866666666666666\n",
      "New set of weights found, iteration: 287 loss: 0.536216 acc: 0.79\n",
      "New set of weights found, iteration: 289 loss: 0.5348217 acc: 0.8433333333333334\n",
      "New set of weights found, iteration: 292 loss: 0.5325289 acc: 0.85\n",
      "New set of weights found, iteration: 293 loss: 0.5249174 acc: 0.93\n",
      "New set of weights found, iteration: 294 loss: 0.52362055 acc: 0.8933333333333333\n",
      "New set of weights found, iteration: 295 loss: 0.515497 acc: 0.87\n",
      "New set of weights found, iteration: 296 loss: 0.5113385 acc: 0.8666666666666667\n",
      "New set of weights found, iteration: 300 loss: 0.50702417 acc: 0.8966666666666666\n",
      "New set of weights found, iteration: 303 loss: 0.49360916 acc: 0.88\n",
      "New set of weights found, iteration: 304 loss: 0.49115062 acc: 0.89\n",
      "New set of weights found, iteration: 305 loss: 0.48935726 acc: 0.8966666666666666\n",
      "New set of weights found, iteration: 306 loss: 0.48897249 acc: 0.9033333333333333\n",
      "New set of weights found, iteration: 308 loss: 0.4877831 acc: 0.8933333333333333\n",
      "New set of weights found, iteration: 310 loss: 0.48227093 acc: 0.8966666666666666\n",
      "New set of weights found, iteration: 313 loss: 0.46771333 acc: 0.9066666666666666\n",
      "New set of weights found, iteration: 314 loss: 0.46548 acc: 0.91\n",
      "New set of weights found, iteration: 315 loss: 0.45733196 acc: 0.9\n",
      "New set of weights found, iteration: 329 loss: 0.4560852 acc: 0.9133333333333333\n",
      "New set of weights found, iteration: 339 loss: 0.45444652 acc: 0.92\n",
      "New set of weights found, iteration: 342 loss: 0.4531225 acc: 0.91\n",
      "New set of weights found, iteration: 347 loss: 0.44944906 acc: 0.9366666666666666\n",
      "New set of weights found, iteration: 348 loss: 0.44927597 acc: 0.9333333333333333\n",
      "New set of weights found, iteration: 349 loss: 0.44878092 acc: 0.9366666666666666\n",
      "New set of weights found, iteration: 350 loss: 0.44466177 acc: 0.93\n",
      "New set of weights found, iteration: 352 loss: 0.43783885 acc: 0.9066666666666666\n",
      "New set of weights found, iteration: 353 loss: 0.43274352 acc: 0.91\n",
      "New set of weights found, iteration: 362 loss: 0.4300704 acc: 0.9066666666666666\n",
      "New set of weights found, iteration: 364 loss: 0.4279901 acc: 0.9133333333333333\n",
      "New set of weights found, iteration: 365 loss: 0.42604333 acc: 0.9033333333333333\n",
      "New set of weights found, iteration: 367 loss: 0.42159814 acc: 0.9066666666666666\n",
      "New set of weights found, iteration: 377 loss: 0.41577047 acc: 0.9033333333333333\n",
      "New set of weights found, iteration: 379 loss: 0.41495353 acc: 0.95\n",
      "New set of weights found, iteration: 380 loss: 0.40591827 acc: 0.9466666666666667\n",
      "New set of weights found, iteration: 386 loss: 0.3987717 acc: 0.95\n",
      "New set of weights found, iteration: 394 loss: 0.39542502 acc: 0.9566666666666667\n",
      "New set of weights found, iteration: 403 loss: 0.39291397 acc: 0.9433333333333334\n",
      "New set of weights found, iteration: 410 loss: 0.38576853 acc: 0.9533333333333334\n",
      "New set of weights found, iteration: 411 loss: 0.38170913 acc: 0.95\n",
      "New set of weights found, iteration: 414 loss: 0.38087127 acc: 0.9433333333333334\n",
      "New set of weights found, iteration: 416 loss: 0.3777275 acc: 0.94\n",
      "New set of weights found, iteration: 421 loss: 0.37462622 acc: 0.9433333333333334\n",
      "New set of weights found, iteration: 423 loss: 0.3722854 acc: 0.9366666666666666\n",
      "New set of weights found, iteration: 425 loss: 0.3710074 acc: 0.9266666666666666\n",
      "New set of weights found, iteration: 436 loss: 0.3701854 acc: 0.9333333333333333\n",
      "New set of weights found, iteration: 442 loss: 0.36723608 acc: 0.94\n",
      "New set of weights found, iteration: 448 loss: 0.36580703 acc: 0.94\n",
      "New set of weights found, iteration: 457 loss: 0.3651039 acc: 0.93\n",
      "New set of weights found, iteration: 460 loss: 0.3575059 acc: 0.9433333333333334\n",
      "New set of weights found, iteration: 464 loss: 0.3545361 acc: 0.9333333333333333\n",
      "New set of weights found, iteration: 465 loss: 0.3499436 acc: 0.9333333333333333\n",
      "New set of weights found, iteration: 471 loss: 0.34745663 acc: 0.9566666666666667\n",
      "New set of weights found, iteration: 474 loss: 0.34536052 acc: 0.9533333333333334\n",
      "New set of weights found, iteration: 478 loss: 0.34323406 acc: 0.9566666666666667\n",
      "New set of weights found, iteration: 482 loss: 0.3427798 acc: 0.9566666666666667\n",
      "New set of weights found, iteration: 489 loss: 0.33718887 acc: 0.9633333333333334\n",
      "New set of weights found, iteration: 492 loss: 0.33353102 acc: 0.9566666666666667\n",
      "New set of weights found, iteration: 503 loss: 0.3293874 acc: 0.9466666666666667\n",
      "New set of weights found, iteration: 506 loss: 0.32797912 acc: 0.9566666666666667\n",
      "New set of weights found, iteration: 507 loss: 0.3252521 acc: 0.95\n",
      "New set of weights found, iteration: 509 loss: 0.32500824 acc: 0.9466666666666667\n",
      "New set of weights found, iteration: 512 loss: 0.3229293 acc: 0.9533333333333334\n",
      "New set of weights found, iteration: 518 loss: 0.31371057 acc: 0.95\n",
      "New set of weights found, iteration: 519 loss: 0.313267 acc: 0.9566666666666667\n",
      "New set of weights found, iteration: 522 loss: 0.3101898 acc: 0.9566666666666667\n",
      "New set of weights found, iteration: 524 loss: 0.30740997 acc: 0.9466666666666667\n",
      "New set of weights found, iteration: 527 loss: 0.30502453 acc: 0.9566666666666667\n",
      "New set of weights found, iteration: 540 loss: 0.29948902 acc: 0.9533333333333334\n",
      "New set of weights found, iteration: 541 loss: 0.29862633 acc: 0.9566666666666667\n",
      "New set of weights found, iteration: 542 loss: 0.2954444 acc: 0.9533333333333334\n",
      "New set of weights found, iteration: 544 loss: 0.29465398 acc: 0.9533333333333334\n",
      "New set of weights found, iteration: 546 loss: 0.29459453 acc: 0.95\n",
      "New set of weights found, iteration: 547 loss: 0.29251143 acc: 0.9566666666666667\n",
      "New set of weights found, iteration: 552 loss: 0.28899688 acc: 0.95\n",
      "New set of weights found, iteration: 563 loss: 0.28469777 acc: 0.9533333333333334\n",
      "New set of weights found, iteration: 564 loss: 0.2811271 acc: 0.9566666666666667\n",
      "New set of weights found, iteration: 565 loss: 0.28077275 acc: 0.9566666666666667\n",
      "New set of weights found, iteration: 570 loss: 0.27970946 acc: 0.9633333333333334\n",
      "New set of weights found, iteration: 573 loss: 0.27483472 acc: 0.96\n",
      "New set of weights found, iteration: 579 loss: 0.274416 acc: 0.96\n",
      "New set of weights found, iteration: 588 loss: 0.27305147 acc: 0.9533333333333334\n",
      "New set of weights found, iteration: 590 loss: 0.2682461 acc: 0.96\n",
      "New set of weights found, iteration: 599 loss: 0.26510397 acc: 0.96\n",
      "New set of weights found, iteration: 600 loss: 0.2641631 acc: 0.96\n",
      "New set of weights found, iteration: 601 loss: 0.26407963 acc: 0.9533333333333334\n",
      "New set of weights found, iteration: 603 loss: 0.26310557 acc: 0.9466666666666667\n",
      "New set of weights found, iteration: 616 loss: 0.2613018 acc: 0.9466666666666667\n",
      "New set of weights found, iteration: 622 loss: 0.256732 acc: 0.9533333333333334\n",
      "New set of weights found, iteration: 626 loss: 0.25605088 acc: 0.95\n",
      "New set of weights found, iteration: 633 loss: 0.25563756 acc: 0.95\n",
      "New set of weights found, iteration: 639 loss: 0.25364822 acc: 0.9466666666666667\n",
      "New set of weights found, iteration: 642 loss: 0.25296152 acc: 0.9566666666666667\n",
      "New set of weights found, iteration: 648 loss: 0.25213486 acc: 0.9566666666666667\n",
      "New set of weights found, iteration: 650 loss: 0.2512914 acc: 0.9566666666666667\n",
      "New set of weights found, iteration: 651 loss: 0.25104582 acc: 0.9533333333333334\n",
      "New set of weights found, iteration: 652 loss: 0.2506776 acc: 0.95\n",
      "New set of weights found, iteration: 653 loss: 0.24703404 acc: 0.95\n",
      "New set of weights found, iteration: 654 loss: 0.24445885 acc: 0.9466666666666667\n",
      "New set of weights found, iteration: 656 loss: 0.24232519 acc: 0.95\n",
      "New set of weights found, iteration: 660 loss: 0.23996872 acc: 0.9433333333333334\n",
      "New set of weights found, iteration: 662 loss: 0.23656583 acc: 0.9466666666666667\n",
      "New set of weights found, iteration: 663 loss: 0.23617198 acc: 0.9466666666666667\n",
      "New set of weights found, iteration: 664 loss: 0.23162939 acc: 0.9533333333333334\n",
      "New set of weights found, iteration: 665 loss: 0.23071624 acc: 0.96\n",
      "New set of weights found, iteration: 667 loss: 0.23011726 acc: 0.95\n",
      "New set of weights found, iteration: 675 loss: 0.22938958 acc: 0.9566666666666667\n",
      "New set of weights found, iteration: 678 loss: 0.22486463 acc: 0.9533333333333334\n",
      "New set of weights found, iteration: 681 loss: 0.22212733 acc: 0.96\n",
      "New set of weights found, iteration: 684 loss: 0.21664152 acc: 0.96\n",
      "New set of weights found, iteration: 687 loss: 0.21562004 acc: 0.9566666666666667\n",
      "New set of weights found, iteration: 688 loss: 0.2154834 acc: 0.9566666666666667\n",
      "New set of weights found, iteration: 696 loss: 0.21519575 acc: 0.95\n",
      "New set of weights found, iteration: 700 loss: 0.21091248 acc: 0.95\n",
      "New set of weights found, iteration: 702 loss: 0.20783167 acc: 0.9566666666666667\n",
      "New set of weights found, iteration: 706 loss: 0.20709346 acc: 0.9566666666666667\n",
      "New set of weights found, iteration: 708 loss: 0.20632783 acc: 0.95\n",
      "New set of weights found, iteration: 711 loss: 0.20551367 acc: 0.9533333333333334\n",
      "New set of weights found, iteration: 712 loss: 0.2050304 acc: 0.96\n",
      "New set of weights found, iteration: 713 loss: 0.20428444 acc: 0.9633333333333334\n",
      "New set of weights found, iteration: 715 loss: 0.20267197 acc: 0.96\n",
      "New set of weights found, iteration: 720 loss: 0.20017488 acc: 0.96\n",
      "New set of weights found, iteration: 725 loss: 0.19944859 acc: 0.9566666666666667\n",
      "New set of weights found, iteration: 729 loss: 0.19692099 acc: 0.9533333333333334\n",
      "New set of weights found, iteration: 730 loss: 0.19691755 acc: 0.95\n",
      "New set of weights found, iteration: 732 loss: 0.19547305 acc: 0.9466666666666667\n",
      "New set of weights found, iteration: 733 loss: 0.19357668 acc: 0.9533333333333334\n",
      "New set of weights found, iteration: 736 loss: 0.19357407 acc: 0.96\n",
      "New set of weights found, iteration: 751 loss: 0.19042656 acc: 0.9533333333333334\n",
      "New set of weights found, iteration: 759 loss: 0.18870732 acc: 0.95\n",
      "New set of weights found, iteration: 776 loss: 0.18859243 acc: 0.9533333333333334\n",
      "New set of weights found, iteration: 777 loss: 0.188144 acc: 0.9566666666666667\n",
      "New set of weights found, iteration: 787 loss: 0.18752079 acc: 0.9633333333333334\n",
      "New set of weights found, iteration: 793 loss: 0.18750007 acc: 0.9533333333333334\n",
      "New set of weights found, iteration: 794 loss: 0.18687609 acc: 0.95\n",
      "New set of weights found, iteration: 798 loss: 0.18455964 acc: 0.96\n",
      "New set of weights found, iteration: 799 loss: 0.18331851 acc: 0.9633333333333334\n",
      "New set of weights found, iteration: 804 loss: 0.18177275 acc: 0.9633333333333334\n",
      "New set of weights found, iteration: 809 loss: 0.18076627 acc: 0.9533333333333334\n",
      "New set of weights found, iteration: 816 loss: 0.17836654 acc: 0.96\n",
      "New set of weights found, iteration: 817 loss: 0.1776538 acc: 0.95\n",
      "New set of weights found, iteration: 822 loss: 0.17610058 acc: 0.9566666666666667\n",
      "New set of weights found, iteration: 828 loss: 0.17548336 acc: 0.95\n",
      "New set of weights found, iteration: 835 loss: 0.1737984 acc: 0.9533333333333334\n",
      "New set of weights found, iteration: 839 loss: 0.17362912 acc: 0.9566666666666667\n",
      "New set of weights found, iteration: 843 loss: 0.17308192 acc: 0.9566666666666667\n",
      "New set of weights found, iteration: 850 loss: 0.17207523 acc: 0.9533333333333334\n",
      "New set of weights found, iteration: 851 loss: 0.17174716 acc: 0.96\n",
      "New set of weights found, iteration: 854 loss: 0.17061722 acc: 0.9566666666666667\n",
      "New set of weights found, iteration: 860 loss: 0.1699562 acc: 0.9466666666666667\n",
      "New set of weights found, iteration: 863 loss: 0.16715163 acc: 0.9533333333333334\n",
      "New set of weights found, iteration: 869 loss: 0.1666503 acc: 0.9566666666666667\n",
      "New set of weights found, iteration: 871 loss: 0.1648208 acc: 0.9533333333333334\n",
      "New set of weights found, iteration: 873 loss: 0.16201916 acc: 0.95\n",
      "New set of weights found, iteration: 876 loss: 0.16188793 acc: 0.95\n",
      "New set of weights found, iteration: 883 loss: 0.16066335 acc: 0.9533333333333334\n",
      "New set of weights found, iteration: 894 loss: 0.1587534 acc: 0.9533333333333334\n",
      "New set of weights found, iteration: 898 loss: 0.15662082 acc: 0.9566666666666667\n",
      "New set of weights found, iteration: 900 loss: 0.15593717 acc: 0.96\n",
      "New set of weights found, iteration: 916 loss: 0.1556128 acc: 0.95\n",
      "New set of weights found, iteration: 920 loss: 0.15410446 acc: 0.96\n",
      "New set of weights found, iteration: 923 loss: 0.15204714 acc: 0.96\n",
      "New set of weights found, iteration: 925 loss: 0.15107627 acc: 0.9566666666666667\n",
      "New set of weights found, iteration: 932 loss: 0.14936274 acc: 0.95\n",
      "New set of weights found, iteration: 935 loss: 0.14792565 acc: 0.95\n",
      "New set of weights found, iteration: 943 loss: 0.14692149 acc: 0.9533333333333334\n",
      "New set of weights found, iteration: 944 loss: 0.14616565 acc: 0.95\n",
      "New set of weights found, iteration: 947 loss: 0.14434324 acc: 0.95\n",
      "New set of weights found, iteration: 954 loss: 0.14343834 acc: 0.95\n",
      "New set of weights found, iteration: 960 loss: 0.14199339 acc: 0.95\n",
      "New set of weights found, iteration: 968 loss: 0.1415465 acc: 0.96\n",
      "New set of weights found, iteration: 970 loss: 0.1402589 acc: 0.9566666666666667\n",
      "New set of weights found, iteration: 971 loss: 0.13874587 acc: 0.9566666666666667\n",
      "New set of weights found, iteration: 983 loss: 0.13819171 acc: 0.95\n",
      "New set of weights found, iteration: 988 loss: 0.13814652 acc: 0.9566666666666667\n",
      "New set of weights found, iteration: 1000 loss: 0.13735646 acc: 0.9533333333333334\n",
      "New set of weights found, iteration: 1021 loss: 0.13695562 acc: 0.9566666666666667\n",
      "New set of weights found, iteration: 1032 loss: 0.1360736 acc: 0.9533333333333334\n",
      "New set of weights found, iteration: 1035 loss: 0.13483818 acc: 0.9533333333333334\n",
      "New set of weights found, iteration: 1037 loss: 0.13469993 acc: 0.9566666666666667\n",
      "New set of weights found, iteration: 1067 loss: 0.13385643 acc: 0.9566666666666667\n",
      "New set of weights found, iteration: 1079 loss: 0.13329868 acc: 0.9566666666666667\n",
      "New set of weights found, iteration: 1081 loss: 0.13233095 acc: 0.95\n",
      "New set of weights found, iteration: 1094 loss: 0.13147208 acc: 0.9533333333333334\n",
      "New set of weights found, iteration: 1099 loss: 0.13117777 acc: 0.95\n",
      "New set of weights found, iteration: 1107 loss: 0.13037871 acc: 0.9533333333333334\n",
      "New set of weights found, iteration: 1117 loss: 0.13000253 acc: 0.9533333333333334\n",
      "New set of weights found, iteration: 1125 loss: 0.12994242 acc: 0.9566666666666667\n",
      "New set of weights found, iteration: 1130 loss: 0.12990664 acc: 0.9566666666666667\n",
      "New set of weights found, iteration: 1132 loss: 0.12912524 acc: 0.9533333333333334\n",
      "New set of weights found, iteration: 1141 loss: 0.1290255 acc: 0.9566666666666667\n",
      "New set of weights found, iteration: 1147 loss: 0.12875038 acc: 0.95\n",
      "New set of weights found, iteration: 1148 loss: 0.12818947 acc: 0.9533333333333334\n",
      "New set of weights found, iteration: 1159 loss: 0.12810117 acc: 0.9533333333333334\n",
      "New set of weights found, iteration: 1161 loss: 0.12763157 acc: 0.9533333333333334\n",
      "New set of weights found, iteration: 1193 loss: 0.1267346 acc: 0.9533333333333334\n",
      "New set of weights found, iteration: 1204 loss: 0.12671416 acc: 0.9566666666666667\n",
      "New set of weights found, iteration: 1206 loss: 0.12660131 acc: 0.9566666666666667\n",
      "New set of weights found, iteration: 1209 loss: 0.12655498 acc: 0.9566666666666667\n",
      "New set of weights found, iteration: 1225 loss: 0.12649201 acc: 0.9566666666666667\n",
      "New set of weights found, iteration: 1227 loss: 0.12572807 acc: 0.9533333333333334\n",
      "New set of weights found, iteration: 1257 loss: 0.1255608 acc: 0.9566666666666667\n",
      "New set of weights found, iteration: 1260 loss: 0.12495951 acc: 0.9566666666666667\n",
      "New set of weights found, iteration: 1266 loss: 0.124901555 acc: 0.9566666666666667\n",
      "New set of weights found, iteration: 1270 loss: 0.124726616 acc: 0.9533333333333334\n",
      "New set of weights found, iteration: 1278 loss: 0.12378076 acc: 0.9533333333333334\n",
      "New set of weights found, iteration: 1282 loss: 0.12336711 acc: 0.9533333333333334\n",
      "New set of weights found, iteration: 1283 loss: 0.122770436 acc: 0.9533333333333334\n",
      "New set of weights found, iteration: 1299 loss: 0.122424774 acc: 0.9533333333333334\n",
      "New set of weights found, iteration: 1309 loss: 0.12226585 acc: 0.9533333333333334\n",
      "New set of weights found, iteration: 1323 loss: 0.121951036 acc: 0.9533333333333334\n",
      "New set of weights found, iteration: 1329 loss: 0.12187968 acc: 0.9533333333333334\n",
      "New set of weights found, iteration: 1336 loss: 0.12178153 acc: 0.95\n",
      "New set of weights found, iteration: 1345 loss: 0.12169436 acc: 0.9533333333333334\n",
      "New set of weights found, iteration: 1354 loss: 0.12137371 acc: 0.9566666666666667\n",
      "New set of weights found, iteration: 1374 loss: 0.12121276 acc: 0.9566666666666667\n",
      "New set of weights found, iteration: 1388 loss: 0.120665334 acc: 0.9566666666666667\n",
      "New set of weights found, iteration: 1410 loss: 0.12009472 acc: 0.9566666666666667\n",
      "New set of weights found, iteration: 1425 loss: 0.11976755 acc: 0.9533333333333334\n",
      "New set of weights found, iteration: 1432 loss: 0.11956075 acc: 0.9566666666666667\n",
      "New set of weights found, iteration: 1437 loss: 0.11947655 acc: 0.9533333333333334\n",
      "New set of weights found, iteration: 1443 loss: 0.119027026 acc: 0.9533333333333334\n",
      "New set of weights found, iteration: 1483 loss: 0.11882528 acc: 0.9533333333333334\n",
      "New set of weights found, iteration: 1488 loss: 0.11854078 acc: 0.9533333333333334\n",
      "New set of weights found, iteration: 1499 loss: 0.11828318 acc: 0.9533333333333334\n",
      "New set of weights found, iteration: 1504 loss: 0.118227206 acc: 0.9533333333333334\n",
      "New set of weights found, iteration: 1522 loss: 0.11821716 acc: 0.9533333333333334\n",
      "New set of weights found, iteration: 1530 loss: 0.11817851 acc: 0.9533333333333334\n",
      "New set of weights found, iteration: 1533 loss: 0.11817837 acc: 0.9533333333333334\n",
      "New set of weights found, iteration: 1537 loss: 0.1179002 acc: 0.9533333333333334\n",
      "New set of weights found, iteration: 1563 loss: 0.11761507 acc: 0.9566666666666667\n",
      "New set of weights found, iteration: 1650 loss: 0.11748071 acc: 0.9533333333333334\n",
      "New set of weights found, iteration: 1657 loss: 0.11723722 acc: 0.9566666666666667\n",
      "New set of weights found, iteration: 1684 loss: 0.11718865 acc: 0.9533333333333334\n",
      "New set of weights found, iteration: 1689 loss: 0.117160566 acc: 0.9533333333333334\n",
      "New set of weights found, iteration: 1759 loss: 0.11708702 acc: 0.9533333333333334\n",
      "New set of weights found, iteration: 1779 loss: 0.11707806 acc: 0.9533333333333334\n",
      "New set of weights found, iteration: 1793 loss: 0.11703758 acc: 0.9566666666666667\n",
      "New set of weights found, iteration: 1797 loss: 0.11666964 acc: 0.9566666666666667\n",
      "New set of weights found, iteration: 1807 loss: 0.11662647 acc: 0.9566666666666667\n",
      "New set of weights found, iteration: 1853 loss: 0.11645827 acc: 0.9566666666666667\n",
      "New set of weights found, iteration: 1899 loss: 0.11628097 acc: 0.9566666666666667\n",
      "New set of weights found, iteration: 1983 loss: 0.11622015 acc: 0.9566666666666667\n",
      "New set of weights found, iteration: 2081 loss: 0.116186626 acc: 0.9566666666666667\n",
      "New set of weights found, iteration: 2091 loss: 0.11611173 acc: 0.9533333333333334\n",
      "New set of weights found, iteration: 2147 loss: 0.11608993 acc: 0.9566666666666667\n",
      "New set of weights found, iteration: 2341 loss: 0.116012506 acc: 0.9566666666666667\n",
      "New set of weights found, iteration: 2397 loss: 0.115986936 acc: 0.9566666666666667\n",
      "New set of weights found, iteration: 2411 loss: 0.115873694 acc: 0.9566666666666667\n",
      "New set of weights found, iteration: 2545 loss: 0.11586726 acc: 0.9533333333333334\n",
      "New set of weights found, iteration: 2597 loss: 0.11583219 acc: 0.9533333333333334\n",
      "New set of weights found, iteration: 2632 loss: 0.11575571 acc: 0.9566666666666667\n",
      "New set of weights found, iteration: 2720 loss: 0.11569219 acc: 0.9566666666666667\n",
      "New set of weights found, iteration: 2738 loss: 0.11558954 acc: 0.9566666666666667\n",
      "New set of weights found, iteration: 2768 loss: 0.11547155 acc: 0.9566666666666667\n",
      "New set of weights found, iteration: 2951 loss: 0.11546435 acc: 0.9566666666666667\n",
      "New set of weights found, iteration: 3003 loss: 0.11545906 acc: 0.9566666666666667\n",
      "New set of weights found, iteration: 3041 loss: 0.115457915 acc: 0.9533333333333334\n",
      "New set of weights found, iteration: 3111 loss: 0.115415804 acc: 0.9533333333333334\n",
      "New set of weights found, iteration: 3120 loss: 0.11532631 acc: 0.9533333333333334\n",
      "New set of weights found, iteration: 3144 loss: 0.11530475 acc: 0.9566666666666667\n",
      "New set of weights found, iteration: 3346 loss: 0.11529638 acc: 0.9566666666666667\n",
      "New set of weights found, iteration: 3416 loss: 0.115192525 acc: 0.9566666666666667\n",
      "New set of weights found, iteration: 3599 loss: 0.11514102 acc: 0.9533333333333334\n",
      "New set of weights found, iteration: 4066 loss: 0.11514061 acc: 0.9566666666666667\n",
      "New set of weights found, iteration: 4324 loss: 0.11507365 acc: 0.9533333333333334\n",
      "New set of weights found, iteration: 4437 loss: 0.11506944 acc: 0.9566666666666667\n",
      "New set of weights found, iteration: 4542 loss: 0.11506897 acc: 0.9566666666666667\n",
      "New set of weights found, iteration: 4612 loss: 0.114962414 acc: 0.9533333333333334\n",
      "New set of weights found, iteration: 4649 loss: 0.11492909 acc: 0.9566666666666667\n",
      "New set of weights found, iteration: 4792 loss: 0.11489006 acc: 0.9566666666666667\n",
      "New set of weights found, iteration: 5266 loss: 0.11486084 acc: 0.9533333333333334\n",
      "New set of weights found, iteration: 5474 loss: 0.11480774 acc: 0.9533333333333334\n",
      "New set of weights found, iteration: 5510 loss: 0.11478183 acc: 0.9533333333333334\n",
      "New set of weights found, iteration: 5547 loss: 0.11472277 acc: 0.9566666666666667\n",
      "New set of weights found, iteration: 5618 loss: 0.11471789 acc: 0.9533333333333334\n",
      "New set of weights found, iteration: 5708 loss: 0.11466555 acc: 0.9566666666666667\n",
      "New set of weights found, iteration: 6107 loss: 0.11465294 acc: 0.9566666666666667\n",
      "New set of weights found, iteration: 6297 loss: 0.11463567 acc: 0.9566666666666667\n",
      "New set of weights found, iteration: 6437 loss: 0.11451916 acc: 0.9533333333333334\n",
      "New set of weights found, iteration: 6468 loss: 0.11437634 acc: 0.9533333333333334\n",
      "New set of weights found, iteration: 6525 loss: 0.11435012 acc: 0.9566666666666667\n",
      "New set of weights found, iteration: 6530 loss: 0.114277266 acc: 0.9533333333333334\n",
      "New set of weights found, iteration: 6588 loss: 0.11424189 acc: 0.9566666666666667\n",
      "New set of weights found, iteration: 6843 loss: 0.114221305 acc: 0.9533333333333334\n",
      "New set of weights found, iteration: 7132 loss: 0.1141892 acc: 0.9566666666666667\n",
      "New set of weights found, iteration: 7277 loss: 0.11406965 acc: 0.9533333333333334\n",
      "New set of weights found, iteration: 7764 loss: 0.1139528 acc: 0.9566666666666667\n",
      "New set of weights found, iteration: 7968 loss: 0.11392721 acc: 0.9566666666666667\n",
      "New set of weights found, iteration: 7982 loss: 0.11371432 acc: 0.9533333333333334\n",
      "New set of weights found, iteration: 8016 loss: 0.11365651 acc: 0.9566666666666667\n",
      "New set of weights found, iteration: 8115 loss: 0.11346497 acc: 0.9566666666666667\n",
      "New set of weights found, iteration: 8490 loss: 0.11343755 acc: 0.9533333333333334\n",
      "New set of weights found, iteration: 8525 loss: 0.11334068 acc: 0.9533333333333334\n",
      "New set of weights found, iteration: 8535 loss: 0.113269426 acc: 0.9566666666666667\n",
      "New set of weights found, iteration: 8582 loss: 0.11323585 acc: 0.9533333333333334\n",
      "New set of weights found, iteration: 8755 loss: 0.11322685 acc: 0.9533333333333334\n",
      "New set of weights found, iteration: 8844 loss: 0.11306226 acc: 0.9566666666666667\n",
      "New set of weights found, iteration: 9114 loss: 0.113040924 acc: 0.9533333333333334\n",
      "New set of weights found, iteration: 9831 loss: 0.1129938 acc: 0.9533333333333334\n"
     ]
    }
   ],
   "source": [
    "# Create dataset\n",
    "X, y = vertical_data(samples=100, classes=3)\n",
    "\n",
    "# Create model\n",
    "dense1 = Layer_Dense(2, 3) # first dense layer, 2 inputs\n",
    "activation1 = Activation_ReLU()\n",
    "dense2 = Layer_Dense(3, 3) # second dense layer, 3 inputs, 3 outputs\n",
    "activation2 = Activation_Softmax()\n",
    "\n",
    "# Create loss function\n",
    "loss_function = Loss_CategoricalCrossentropy()\n",
    "\n",
    "# Helper variables\n",
    "lowest_loss = 9999999 # some initial value\n",
    "best_dense1_weights = dense1.weights.copy()\n",
    "best_dense1_biases = dense1.biases.copy()\n",
    "best_dense2_weights = dense2.weights.copy()\n",
    "best_dense2_biases = dense2.biases.copy()\n",
    "\n",
    "for iteration in range(10000):\n",
    "    # Generate a new set of weights for iteration\n",
    "    dense1.weights += 0.05 * np.random.randn(2, 3)\n",
    "    dense1.biases += 0.05 * np.random.randn(1, 3)\n",
    "    dense2.weights += 0.05 * np.random.randn(3, 3)\n",
    "    dense2.biases += 0.05 * np.random.randn(1, 3)\n",
    "    \n",
    "    # Perform a forward pass of the training data through this layer\n",
    "    dense1.forward(X)\n",
    "    activation1.forward(dense1.output)\n",
    "    dense2.forward(activation1.output)\n",
    "    activation2.forward(dense2.output)\n",
    "    \n",
    "    # Perform a forward pass through activation function\n",
    "    # it takes the output of second dense layer here and returns loss\n",
    "    loss = loss_function.calculate(activation2.output, y)\n",
    "    \n",
    "    # Calculate accuracy from output of activation2 and targets\n",
    "    # calculate values along first axis\n",
    "    predictions = np.argmax(activation2.output, axis=1)\n",
    "    accuracy = np.mean(predictions==y)\n",
    "    \n",
    "    # If loss is smaller - print and save weights and biases aside\n",
    "    if loss < lowest_loss:\n",
    "        print('New set of weights found, iteration:', iteration,\n",
    "        'loss:', loss, 'acc:', accuracy)\n",
    "        best_dense1_weights = dense1.weights.copy()\n",
    "        best_dense1_biases = dense1.biases.copy()\n",
    "        best_dense2_weights = dense2.weights.copy()\n",
    "        best_dense2_biases = dense2.biases.copy()\n",
    "        lowest_loss = loss\n",
    "    # Revert weights and biases\n",
    "    else:\n",
    "        dense1.weights = best_dense1_weights.copy()\n",
    "        dense1.biases = best_dense1_biases.copy()\n",
    "        dense2.weights = best_dense2_weights.copy()\n",
    "        dense2.biases = best_dense2_biases.copy()"
   ]
  },
  {
   "cell_type": "code",
   "execution_count": 5,
   "id": "e4a034f3-6f8c-4331-85ae-7c340bd8a530",
   "metadata": {},
   "outputs": [
    {
     "name": "stdout",
     "output_type": "stream",
     "text": [
      "New set of weights found, iteration: 0 loss: 1.0989516 acc: 0.3333333333333333\n",
      "New set of weights found, iteration: 2 loss: 1.098836 acc: 0.32\n",
      "New set of weights found, iteration: 13 loss: 1.0987464 acc: 0.3333333333333333\n",
      "New set of weights found, iteration: 16 loss: 1.0986851 acc: 0.3566666666666667\n",
      "New set of weights found, iteration: 21 loss: 1.0983928 acc: 0.36333333333333334\n",
      "New set of weights found, iteration: 23 loss: 1.0983025 acc: 0.3466666666666667\n",
      "New set of weights found, iteration: 27 loss: 1.0970689 acc: 0.3433333333333333\n",
      "New set of weights found, iteration: 34 loss: 1.0968539 acc: 0.3433333333333333\n",
      "New set of weights found, iteration: 40 loss: 1.0963267 acc: 0.38333333333333336\n",
      "New set of weights found, iteration: 45 loss: 1.0962243 acc: 0.3566666666666667\n",
      "New set of weights found, iteration: 55 loss: 1.0952492 acc: 0.37333333333333335\n",
      "New set of weights found, iteration: 57 loss: 1.0951451 acc: 0.3333333333333333\n",
      "New set of weights found, iteration: 66 loss: 1.0941321 acc: 0.37666666666666665\n",
      "New set of weights found, iteration: 67 loss: 1.0934838 acc: 0.33\n",
      "New set of weights found, iteration: 70 loss: 1.0928512 acc: 0.41333333333333333\n",
      "New set of weights found, iteration: 72 loss: 1.0925167 acc: 0.38\n",
      "New set of weights found, iteration: 73 loss: 1.0923797 acc: 0.36666666666666664\n",
      "New set of weights found, iteration: 75 loss: 1.0917627 acc: 0.37333333333333335\n",
      "New set of weights found, iteration: 81 loss: 1.0915942 acc: 0.36666666666666664\n",
      "New set of weights found, iteration: 85 loss: 1.0911771 acc: 0.37666666666666665\n",
      "New set of weights found, iteration: 86 loss: 1.0904496 acc: 0.36333333333333334\n",
      "New set of weights found, iteration: 88 loss: 1.0902942 acc: 0.36666666666666664\n",
      "New set of weights found, iteration: 91 loss: 1.0896077 acc: 0.35333333333333333\n",
      "New set of weights found, iteration: 104 loss: 1.0881066 acc: 0.39666666666666667\n",
      "New set of weights found, iteration: 111 loss: 1.088008 acc: 0.37666666666666665\n",
      "New set of weights found, iteration: 121 loss: 1.0873747 acc: 0.37\n",
      "New set of weights found, iteration: 134 loss: 1.0873642 acc: 0.39666666666666667\n",
      "New set of weights found, iteration: 137 loss: 1.0873116 acc: 0.36\n",
      "New set of weights found, iteration: 138 loss: 1.086864 acc: 0.3433333333333333\n",
      "New set of weights found, iteration: 144 loss: 1.0866284 acc: 0.3566666666666667\n",
      "New set of weights found, iteration: 149 loss: 1.0862274 acc: 0.3466666666666667\n",
      "New set of weights found, iteration: 158 loss: 1.0851182 acc: 0.4066666666666667\n",
      "New set of weights found, iteration: 161 loss: 1.0847236 acc: 0.38333333333333336\n",
      "New set of weights found, iteration: 173 loss: 1.0842382 acc: 0.39\n",
      "New set of weights found, iteration: 181 loss: 1.0841858 acc: 0.38\n",
      "New set of weights found, iteration: 185 loss: 1.0838901 acc: 0.38333333333333336\n",
      "New set of weights found, iteration: 198 loss: 1.0838075 acc: 0.3433333333333333\n",
      "New set of weights found, iteration: 209 loss: 1.0825566 acc: 0.38333333333333336\n",
      "New set of weights found, iteration: 214 loss: 1.0818579 acc: 0.39666666666666667\n",
      "New set of weights found, iteration: 235 loss: 1.0815643 acc: 0.38333333333333336\n",
      "New set of weights found, iteration: 256 loss: 1.0808352 acc: 0.38333333333333336\n",
      "New set of weights found, iteration: 309 loss: 1.0800885 acc: 0.38666666666666666\n",
      "New set of weights found, iteration: 317 loss: 1.0796496 acc: 0.38\n",
      "New set of weights found, iteration: 339 loss: 1.0795695 acc: 0.41333333333333333\n",
      "New set of weights found, iteration: 383 loss: 1.0788591 acc: 0.4033333333333333\n",
      "New set of weights found, iteration: 386 loss: 1.0787189 acc: 0.37333333333333335\n",
      "New set of weights found, iteration: 431 loss: 1.0778294 acc: 0.41\n",
      "New set of weights found, iteration: 464 loss: 1.0771886 acc: 0.4066666666666667\n",
      "New set of weights found, iteration: 473 loss: 1.0769538 acc: 0.41\n",
      "New set of weights found, iteration: 498 loss: 1.0762328 acc: 0.4\n",
      "New set of weights found, iteration: 511 loss: 1.0756959 acc: 0.41\n",
      "New set of weights found, iteration: 518 loss: 1.0751187 acc: 0.41\n",
      "New set of weights found, iteration: 617 loss: 1.0751109 acc: 0.38333333333333336\n",
      "New set of weights found, iteration: 619 loss: 1.0749365 acc: 0.3466666666666667\n",
      "New set of weights found, iteration: 621 loss: 1.0749155 acc: 0.3466666666666667\n",
      "New set of weights found, iteration: 623 loss: 1.0742403 acc: 0.3933333333333333\n",
      "New set of weights found, iteration: 624 loss: 1.0741704 acc: 0.4166666666666667\n",
      "New set of weights found, iteration: 627 loss: 1.0735333 acc: 0.36333333333333334\n",
      "New set of weights found, iteration: 658 loss: 1.0733482 acc: 0.37333333333333335\n",
      "New set of weights found, iteration: 681 loss: 1.0724142 acc: 0.37666666666666665\n",
      "New set of weights found, iteration: 746 loss: 1.0718154 acc: 0.37666666666666665\n",
      "New set of weights found, iteration: 747 loss: 1.0706667 acc: 0.39\n",
      "New set of weights found, iteration: 796 loss: 1.0701734 acc: 0.38666666666666666\n",
      "New set of weights found, iteration: 807 loss: 1.0700295 acc: 0.37333333333333335\n",
      "New set of weights found, iteration: 853 loss: 1.0688785 acc: 0.35333333333333333\n",
      "New set of weights found, iteration: 856 loss: 1.068678 acc: 0.4066666666666667\n",
      "New set of weights found, iteration: 863 loss: 1.0682111 acc: 0.35333333333333333\n",
      "New set of weights found, iteration: 868 loss: 1.0679649 acc: 0.36333333333333334\n",
      "New set of weights found, iteration: 872 loss: 1.067622 acc: 0.39666666666666667\n",
      "New set of weights found, iteration: 876 loss: 1.0669497 acc: 0.35\n",
      "New set of weights found, iteration: 903 loss: 1.0667785 acc: 0.35\n",
      "New set of weights found, iteration: 916 loss: 1.065742 acc: 0.4\n",
      "New set of weights found, iteration: 944 loss: 1.0656747 acc: 0.36666666666666664\n",
      "New set of weights found, iteration: 946 loss: 1.0652114 acc: 0.36\n",
      "New set of weights found, iteration: 952 loss: 1.0650504 acc: 0.36666666666666664\n",
      "New set of weights found, iteration: 957 loss: 1.0647168 acc: 0.38666666666666666\n",
      "New set of weights found, iteration: 960 loss: 1.064107 acc: 0.37666666666666665\n",
      "New set of weights found, iteration: 963 loss: 1.063829 acc: 0.37666666666666665\n",
      "New set of weights found, iteration: 973 loss: 1.0630927 acc: 0.36666666666666664\n",
      "New set of weights found, iteration: 981 loss: 1.061774 acc: 0.35333333333333333\n",
      "New set of weights found, iteration: 983 loss: 1.0613542 acc: 0.39666666666666667\n",
      "New set of weights found, iteration: 1011 loss: 1.0612394 acc: 0.3933333333333333\n",
      "New set of weights found, iteration: 1035 loss: 1.0602275 acc: 0.4\n",
      "New set of weights found, iteration: 1042 loss: 1.0601288 acc: 0.37\n",
      "New set of weights found, iteration: 1043 loss: 1.059993 acc: 0.38\n",
      "New set of weights found, iteration: 1065 loss: 1.0582403 acc: 0.39666666666666667\n",
      "New set of weights found, iteration: 1115 loss: 1.0581768 acc: 0.37333333333333335\n",
      "New set of weights found, iteration: 1120 loss: 1.0579064 acc: 0.39666666666666667\n",
      "New set of weights found, iteration: 1136 loss: 1.057198 acc: 0.37333333333333335\n",
      "New set of weights found, iteration: 1169 loss: 1.0569832 acc: 0.38666666666666666\n",
      "New set of weights found, iteration: 1187 loss: 1.0569702 acc: 0.38333333333333336\n",
      "New set of weights found, iteration: 1199 loss: 1.0568217 acc: 0.35\n",
      "New set of weights found, iteration: 1200 loss: 1.0563996 acc: 0.38666666666666666\n",
      "New set of weights found, iteration: 1202 loss: 1.0559527 acc: 0.38333333333333336\n",
      "New set of weights found, iteration: 1204 loss: 1.0559516 acc: 0.39\n",
      "New set of weights found, iteration: 1214 loss: 1.0556747 acc: 0.41\n",
      "New set of weights found, iteration: 1218 loss: 1.0545664 acc: 0.41\n",
      "New set of weights found, iteration: 1224 loss: 1.0538833 acc: 0.41333333333333333\n",
      "New set of weights found, iteration: 1295 loss: 1.0535944 acc: 0.36\n",
      "New set of weights found, iteration: 1299 loss: 1.0525205 acc: 0.42333333333333334\n",
      "New set of weights found, iteration: 1337 loss: 1.0524888 acc: 0.38666666666666666\n",
      "New set of weights found, iteration: 1339 loss: 1.0522479 acc: 0.39\n",
      "New set of weights found, iteration: 1361 loss: 1.0522264 acc: 0.4066666666666667\n",
      "New set of weights found, iteration: 1376 loss: 1.0521419 acc: 0.41333333333333333\n",
      "New set of weights found, iteration: 1413 loss: 1.0521004 acc: 0.39\n",
      "New set of weights found, iteration: 1440 loss: 1.0515658 acc: 0.39666666666666667\n",
      "New set of weights found, iteration: 1448 loss: 1.0514419 acc: 0.38\n",
      "New set of weights found, iteration: 1481 loss: 1.0514091 acc: 0.4266666666666667\n",
      "New set of weights found, iteration: 1482 loss: 1.050849 acc: 0.4066666666666667\n",
      "New set of weights found, iteration: 1484 loss: 1.0505202 acc: 0.42333333333333334\n",
      "New set of weights found, iteration: 1535 loss: 1.0503113 acc: 0.4166666666666667\n",
      "New set of weights found, iteration: 1537 loss: 1.0502177 acc: 0.39\n",
      "New set of weights found, iteration: 1555 loss: 1.0496368 acc: 0.4033333333333333\n",
      "New set of weights found, iteration: 1562 loss: 1.0492078 acc: 0.4066666666666667\n",
      "New set of weights found, iteration: 1632 loss: 1.049207 acc: 0.38666666666666666\n",
      "New set of weights found, iteration: 1659 loss: 1.0491787 acc: 0.38666666666666666\n",
      "New set of weights found, iteration: 1667 loss: 1.048702 acc: 0.43\n",
      "New set of weights found, iteration: 1686 loss: 1.0484914 acc: 0.41333333333333333\n",
      "New set of weights found, iteration: 1693 loss: 1.0484492 acc: 0.43\n",
      "New set of weights found, iteration: 1719 loss: 1.0479543 acc: 0.4166666666666667\n",
      "New set of weights found, iteration: 1955 loss: 1.0476825 acc: 0.41\n",
      "New set of weights found, iteration: 2072 loss: 1.0475827 acc: 0.42333333333333334\n",
      "New set of weights found, iteration: 2130 loss: 1.0474195 acc: 0.4\n",
      "New set of weights found, iteration: 2151 loss: 1.0472386 acc: 0.4266666666666667\n",
      "New set of weights found, iteration: 2161 loss: 1.0471958 acc: 0.39\n",
      "New set of weights found, iteration: 2192 loss: 1.0468059 acc: 0.4\n",
      "New set of weights found, iteration: 2219 loss: 1.0467576 acc: 0.41333333333333333\n",
      "New set of weights found, iteration: 2263 loss: 1.0466787 acc: 0.41\n",
      "New set of weights found, iteration: 2270 loss: 1.04658 acc: 0.4166666666666667\n",
      "New set of weights found, iteration: 2281 loss: 1.0463525 acc: 0.43\n",
      "New set of weights found, iteration: 2283 loss: 1.0461884 acc: 0.4\n",
      "New set of weights found, iteration: 2302 loss: 1.0460237 acc: 0.43\n",
      "New set of weights found, iteration: 2353 loss: 1.0457987 acc: 0.4166666666666667\n",
      "New set of weights found, iteration: 2357 loss: 1.0456034 acc: 0.39666666666666667\n",
      "New set of weights found, iteration: 2362 loss: 1.0453644 acc: 0.4033333333333333\n",
      "New set of weights found, iteration: 2386 loss: 1.045156 acc: 0.4166666666666667\n",
      "New set of weights found, iteration: 2404 loss: 1.0450639 acc: 0.4033333333333333\n",
      "New set of weights found, iteration: 2419 loss: 1.0450422 acc: 0.4266666666666667\n",
      "New set of weights found, iteration: 2452 loss: 1.0448543 acc: 0.41\n",
      "New set of weights found, iteration: 2464 loss: 1.0447131 acc: 0.4066666666666667\n",
      "New set of weights found, iteration: 2496 loss: 1.0444736 acc: 0.44333333333333336\n",
      "New set of weights found, iteration: 2506 loss: 1.0441633 acc: 0.4166666666666667\n",
      "New set of weights found, iteration: 2562 loss: 1.0441333 acc: 0.4266666666666667\n",
      "New set of weights found, iteration: 2621 loss: 1.0440152 acc: 0.43666666666666665\n",
      "New set of weights found, iteration: 2630 loss: 1.0429592 acc: 0.37333333333333335\n",
      "New set of weights found, iteration: 2636 loss: 1.0427508 acc: 0.41\n",
      "New set of weights found, iteration: 2652 loss: 1.0427281 acc: 0.4066666666666667\n",
      "New set of weights found, iteration: 2655 loss: 1.0422145 acc: 0.4066666666666667\n",
      "New set of weights found, iteration: 2671 loss: 1.0419668 acc: 0.43\n",
      "New set of weights found, iteration: 2678 loss: 1.041929 acc: 0.38333333333333336\n",
      "New set of weights found, iteration: 2683 loss: 1.041425 acc: 0.38666666666666666\n",
      "New set of weights found, iteration: 2729 loss: 1.0412608 acc: 0.39666666666666667\n",
      "New set of weights found, iteration: 2730 loss: 1.0408872 acc: 0.4166666666666667\n",
      "New set of weights found, iteration: 2851 loss: 1.0405965 acc: 0.39\n",
      "New set of weights found, iteration: 2896 loss: 1.0405589 acc: 0.39666666666666667\n",
      "New set of weights found, iteration: 2900 loss: 1.0399936 acc: 0.39\n",
      "New set of weights found, iteration: 3129 loss: 1.0396794 acc: 0.37333333333333335\n",
      "New set of weights found, iteration: 3174 loss: 1.039273 acc: 0.37333333333333335\n",
      "New set of weights found, iteration: 3220 loss: 1.0387124 acc: 0.37666666666666665\n",
      "New set of weights found, iteration: 3385 loss: 1.038651 acc: 0.37\n",
      "New set of weights found, iteration: 3480 loss: 1.0384923 acc: 0.36666666666666664\n",
      "New set of weights found, iteration: 3481 loss: 1.0383034 acc: 0.37\n",
      "New set of weights found, iteration: 3483 loss: 1.0377945 acc: 0.36666666666666664\n",
      "New set of weights found, iteration: 3744 loss: 1.0377647 acc: 0.37333333333333335\n",
      "New set of weights found, iteration: 3747 loss: 1.037685 acc: 0.38666666666666666\n",
      "New set of weights found, iteration: 3795 loss: 1.0373753 acc: 0.36666666666666664\n",
      "New set of weights found, iteration: 3816 loss: 1.0362525 acc: 0.37666666666666665\n",
      "New set of weights found, iteration: 4258 loss: 1.0358349 acc: 0.38\n",
      "New set of weights found, iteration: 4302 loss: 1.0358026 acc: 0.38666666666666666\n",
      "New set of weights found, iteration: 4384 loss: 1.0357436 acc: 0.37\n",
      "New set of weights found, iteration: 4414 loss: 1.0355252 acc: 0.36666666666666664\n",
      "New set of weights found, iteration: 4417 loss: 1.035271 acc: 0.36666666666666664\n",
      "New set of weights found, iteration: 4481 loss: 1.0351957 acc: 0.38333333333333336\n",
      "New set of weights found, iteration: 4485 loss: 1.0348582 acc: 0.37\n",
      "New set of weights found, iteration: 4560 loss: 1.0345365 acc: 0.38333333333333336\n",
      "New set of weights found, iteration: 4659 loss: 1.0339859 acc: 0.38333333333333336\n",
      "New set of weights found, iteration: 4665 loss: 1.0338572 acc: 0.37666666666666665\n",
      "New set of weights found, iteration: 4704 loss: 1.0335766 acc: 0.39\n",
      "New set of weights found, iteration: 4710 loss: 1.0329711 acc: 0.37666666666666665\n",
      "New set of weights found, iteration: 4720 loss: 1.0325487 acc: 0.38666666666666666\n",
      "New set of weights found, iteration: 4747 loss: 1.0322553 acc: 0.37333333333333335\n",
      "New set of weights found, iteration: 4753 loss: 1.0321004 acc: 0.37333333333333335\n",
      "New set of weights found, iteration: 4764 loss: 1.0315881 acc: 0.38\n",
      "New set of weights found, iteration: 4889 loss: 1.0313939 acc: 0.38333333333333336\n",
      "New set of weights found, iteration: 5060 loss: 1.0313605 acc: 0.39666666666666667\n",
      "New set of weights found, iteration: 5066 loss: 1.0313383 acc: 0.38666666666666666\n",
      "New set of weights found, iteration: 5092 loss: 1.0309786 acc: 0.39666666666666667\n",
      "New set of weights found, iteration: 5111 loss: 1.030955 acc: 0.37333333333333335\n",
      "New set of weights found, iteration: 5162 loss: 1.0299658 acc: 0.35333333333333333\n",
      "New set of weights found, iteration: 5250 loss: 1.0299457 acc: 0.37666666666666665\n",
      "New set of weights found, iteration: 5258 loss: 1.0298067 acc: 0.38333333333333336\n",
      "New set of weights found, iteration: 5319 loss: 1.0290879 acc: 0.37\n",
      "New set of weights found, iteration: 5322 loss: 1.0282166 acc: 0.4166666666666667\n",
      "New set of weights found, iteration: 5338 loss: 1.0278862 acc: 0.38\n",
      "New set of weights found, iteration: 5417 loss: 1.0276535 acc: 0.37\n",
      "New set of weights found, iteration: 5504 loss: 1.0275403 acc: 0.38666666666666666\n",
      "New set of weights found, iteration: 5531 loss: 1.0264649 acc: 0.37\n",
      "New set of weights found, iteration: 5533 loss: 1.0264493 acc: 0.3566666666666667\n",
      "New set of weights found, iteration: 5548 loss: 1.0262933 acc: 0.36333333333333334\n",
      "New set of weights found, iteration: 5558 loss: 1.0259334 acc: 0.39\n",
      "New set of weights found, iteration: 5572 loss: 1.024678 acc: 0.39666666666666667\n",
      "New set of weights found, iteration: 5973 loss: 1.0245436 acc: 0.38666666666666666\n",
      "New set of weights found, iteration: 5974 loss: 1.0242823 acc: 0.35333333333333333\n",
      "New set of weights found, iteration: 6052 loss: 1.0241772 acc: 0.35333333333333333\n",
      "New set of weights found, iteration: 6107 loss: 1.0233113 acc: 0.38\n",
      "New set of weights found, iteration: 6127 loss: 1.0231608 acc: 0.3566666666666667\n",
      "New set of weights found, iteration: 6150 loss: 1.0224764 acc: 0.38\n",
      "New set of weights found, iteration: 6247 loss: 1.0224706 acc: 0.38333333333333336\n",
      "New set of weights found, iteration: 6344 loss: 1.0222915 acc: 0.39666666666666667\n",
      "New set of weights found, iteration: 6485 loss: 1.0222697 acc: 0.4\n",
      "New set of weights found, iteration: 6537 loss: 1.0221776 acc: 0.4\n",
      "New set of weights found, iteration: 6560 loss: 1.0221145 acc: 0.39666666666666667\n",
      "New set of weights found, iteration: 6569 loss: 1.0215843 acc: 0.38\n",
      "New set of weights found, iteration: 6575 loss: 1.0211456 acc: 0.37666666666666665\n",
      "New set of weights found, iteration: 6597 loss: 1.0210835 acc: 0.37\n",
      "New set of weights found, iteration: 6640 loss: 1.0210049 acc: 0.37\n",
      "New set of weights found, iteration: 6710 loss: 1.0205584 acc: 0.38\n",
      "New set of weights found, iteration: 6738 loss: 1.0202847 acc: 0.4033333333333333\n",
      "New set of weights found, iteration: 6815 loss: 1.020243 acc: 0.41\n",
      "New set of weights found, iteration: 6822 loss: 1.0196854 acc: 0.38\n",
      "New set of weights found, iteration: 6838 loss: 1.0190147 acc: 0.4066666666666667\n",
      "New set of weights found, iteration: 6869 loss: 1.0184984 acc: 0.4066666666666667\n",
      "New set of weights found, iteration: 6921 loss: 1.0181867 acc: 0.38\n",
      "New set of weights found, iteration: 6936 loss: 1.0179342 acc: 0.43\n",
      "New set of weights found, iteration: 7009 loss: 1.017205 acc: 0.3933333333333333\n",
      "New set of weights found, iteration: 7027 loss: 1.0162638 acc: 0.4166666666666667\n",
      "New set of weights found, iteration: 7066 loss: 1.0161605 acc: 0.4033333333333333\n",
      "New set of weights found, iteration: 7088 loss: 1.0158142 acc: 0.41\n",
      "New set of weights found, iteration: 7282 loss: 1.0147038 acc: 0.41333333333333333\n",
      "New set of weights found, iteration: 7339 loss: 1.0140578 acc: 0.42333333333333334\n",
      "New set of weights found, iteration: 7365 loss: 1.0135117 acc: 0.45\n",
      "New set of weights found, iteration: 7448 loss: 1.0132892 acc: 0.43666666666666665\n",
      "New set of weights found, iteration: 7555 loss: 1.0129256 acc: 0.4033333333333333\n",
      "New set of weights found, iteration: 7653 loss: 1.0129168 acc: 0.3933333333333333\n",
      "New set of weights found, iteration: 7744 loss: 1.0124471 acc: 0.41\n",
      "New set of weights found, iteration: 7751 loss: 1.0123569 acc: 0.37333333333333335\n",
      "New set of weights found, iteration: 7810 loss: 1.0123421 acc: 0.3933333333333333\n",
      "New set of weights found, iteration: 7813 loss: 1.011758 acc: 0.43666666666666665\n",
      "New set of weights found, iteration: 7845 loss: 1.0111812 acc: 0.38666666666666666\n",
      "New set of weights found, iteration: 7913 loss: 1.0110303 acc: 0.43\n",
      "New set of weights found, iteration: 7927 loss: 1.0109915 acc: 0.42333333333333334\n",
      "New set of weights found, iteration: 8310 loss: 1.0106475 acc: 0.41\n",
      "New set of weights found, iteration: 8340 loss: 1.0105205 acc: 0.44666666666666666\n",
      "New set of weights found, iteration: 8383 loss: 1.0104824 acc: 0.43333333333333335\n",
      "New set of weights found, iteration: 8458 loss: 1.0103313 acc: 0.4033333333333333\n",
      "New set of weights found, iteration: 8485 loss: 1.009882 acc: 0.43\n",
      "New set of weights found, iteration: 8518 loss: 1.009639 acc: 0.45\n",
      "New set of weights found, iteration: 8685 loss: 1.0092618 acc: 0.4033333333333333\n",
      "New set of weights found, iteration: 8689 loss: 1.0092218 acc: 0.44\n",
      "New set of weights found, iteration: 8787 loss: 1.0086356 acc: 0.44\n",
      "New set of weights found, iteration: 8804 loss: 1.0085738 acc: 0.4266666666666667\n",
      "New set of weights found, iteration: 8979 loss: 1.0084326 acc: 0.45666666666666667\n",
      "New set of weights found, iteration: 9043 loss: 1.0084023 acc: 0.44333333333333336\n",
      "New set of weights found, iteration: 9064 loss: 1.0079207 acc: 0.41\n",
      "New set of weights found, iteration: 9256 loss: 1.0076839 acc: 0.42333333333333334\n",
      "New set of weights found, iteration: 9728 loss: 1.0075212 acc: 0.4533333333333333\n"
     ]
    }
   ],
   "source": [
    "# Create dataset\n",
    "X, y = spiral_data(samples=100, classes=3)\n",
    "\n",
    "# Create model\n",
    "dense1 = Layer_Dense(2, 3)  # first dense layer, 2 inputs\n",
    "activation1 = Activation_ReLU()\n",
    "dense2 = Layer_Dense(3, 3)  # second dense layer, 3 inputs, 3 outputs\n",
    "activation2 = Activation_Softmax()\n",
    "\n",
    "# Create loss function\n",
    "loss_function = Loss_CategoricalCrossentropy()\n",
    "\n",
    "# Helper variables\n",
    "lowest_loss = 9999999  # some initial value\n",
    "best_dense1_weights = dense1.weights.copy()\n",
    "best_dense1_biases = dense1.biases.copy()\n",
    "best_dense2_weights = dense2.weights.copy()\n",
    "best_dense2_biases = dense2.biases.copy()\n",
    "\n",
    "for iteration in range(10000):\n",
    "\n",
    "    # Update weights with some small random values\n",
    "    dense1.weights += 0.05 * np.random.randn(2, 3)\n",
    "    dense1.biases += 0.05 * np.random.randn(1, 3)\n",
    "    dense2.weights += 0.05 * np.random.randn(3, 3)\n",
    "    dense2.biases += 0.05 * np.random.randn(1, 3)\n",
    "\n",
    "    # Perform a forward pass of our training data through this layer\n",
    "    dense1.forward(X)\n",
    "    activation1.forward(dense1.output)\n",
    "    dense2.forward(activation1.output)\n",
    "    activation2.forward(dense2.output)\n",
    "\n",
    "    # Perform a forward pass through activation function\n",
    "    # it takes the output of second dense layer here and returns loss\n",
    "    loss = loss_function.calculate(activation2.output, y)\n",
    "\n",
    "    # Calculate accuracy from output of activation2 and targets\n",
    "    # calculate values along first axis\n",
    "    predictions = np.argmax(activation2.output, axis=1)\n",
    "    accuracy = np.mean(predictions == y)\n",
    "    # If loss is smaller - print and save weights and biases aside\n",
    "    if loss < lowest_loss:\n",
    "        print('New set of weights found, iteration:', iteration,\n",
    "              'loss:', loss, 'acc:', accuracy)\n",
    "        best_dense1_weights = dense1.weights.copy()\n",
    "        best_dense1_biases = dense1.biases.copy()\n",
    "        best_dense2_weights = dense2.weights.copy()\n",
    "        best_dense2_biases = dense2.biases.copy()\n",
    "        lowest_loss = loss\n",
    "    # Revert weights and biases\n",
    "    else:\n",
    "        dense1.weights = best_dense1_weights.copy()\n",
    "        dense1.biases = best_dense1_biases.copy()\n",
    "        dense2.weights = best_dense2_weights.copy()\n",
    "        dense2.biases = best_dense2_biases.copy()\n"
   ]
  },
  {
   "cell_type": "code",
   "execution_count": 7,
   "id": "3db4794e",
   "metadata": {},
   "outputs": [
    {
     "name": "stdout",
     "output_type": "stream",
     "text": [
      "[0 1 2 3 4]\n",
      "[0 2 4 6 8]\n"
     ]
    },
    {
     "data": {
      "image/png": "[encoded data removed]",
      "text/plain": [
       "<Figure size 640x480 with 1 Axes>"
      ]
     },
     "metadata": {},
     "output_type": "display_data"
    }
   ],
   "source": [
    "import matplotlib.pyplot as plt\n",
    "import numpy as np\n",
    "\n",
    "def f(x):\n",
    "    return 2*x\n",
    "\n",
    "x = np.array(range(5))\n",
    "y = f(x)\n",
    "print(x)\n",
    "print(y)\n",
    "\n",
    "plt.plot(x, y)\n",
    "plt.show()"
   ]
  },
  {
   "cell_type": "code",
   "execution_count": 8,
   "id": "bdaa1abc-119f-4842-a9c7-3082b796741a",
   "metadata": {},
   "outputs": [
    {
     "name": "stdout",
     "output_type": "stream",
     "text": [
      "[0 1 2 3 4]\n",
      "[ 0  2  8 18 32]\n"
     ]
    }
   ],
   "source": [
    "def f(x):\n",
    "    return 2*x**2\n",
    "\n",
    "y = f(x) # Calculate function outputs for new function\n",
    "print(x)\n",
    "print(y)"
   ]
  },
  {
   "cell_type": "code",
   "execution_count": 9,
   "id": "b4ad3fc6-6ec9-478e-8aa5-764a6cbaa8d4",
   "metadata": {},
   "outputs": [
    {
     "name": "stdout",
     "output_type": "stream",
     "text": [
      "2.0\n",
      "10.0\n"
     ]
    }
   ],
   "source": [
    "print((y[1]-y[0]) / (x[1]-x[0]))\n",
    "print((y[3]-y[2]) / (x[3]-x[2]))"
   ]
  },
  {
   "cell_type": "code",
   "execution_count": 10,
   "id": "091ec053-ef53-4efc-b189-915b2a5e0121",
   "metadata": {},
   "outputs": [
    {
     "name": "stdout",
     "output_type": "stream",
     "text": [
      "4.0001999999987845\n"
     ]
    }
   ],
   "source": [
    "p2_delta = 0.0001\n",
    "x1 = 1\n",
    "x2 = x1 + p2_delta # add delta\n",
    "y1 = f(x1) # result at the derivation point\n",
    "y2 = f(x2) # result at the other, close point\n",
    "approximate_derivative = (y2-y1)/(x2-x1)\n",
    "print(approximate_derivative)"
   ]
  },
  {
   "cell_type": "code",
   "execution_count": 12,
   "id": "145d8dc2-7d61-4b7e-88db-cf4723c28687",
   "metadata": {},
   "outputs": [
    {
     "data": {
      "image/png": "[encoded data removed]",
      "text/plain": [
       "<Figure size 640x480 with 1 Axes>"
      ]
     },
     "metadata": {},
     "output_type": "display_data"
    }
   ],
   "source": [
    "import matplotlib.pyplot as plt\n",
    "import numpy as np\n",
    "def f(x):\n",
    "    return 2*x**2\n",
    "# np.arange(start, stop, step) to give us smoother line\n",
    "x = np.arange(0, 5, 0.001)\n",
    "y = f(x)\n",
    "plt.plot(x, y)\n",
    "plt.show()"
   ]
  },
  {
   "cell_type": "code",
   "execution_count": 13,
   "id": "9201e645-346d-41c0-b82a-f1e6e7055dbe",
   "metadata": {},
   "outputs": [
    {
     "name": "stdout",
     "output_type": "stream",
     "text": [
      "(2, 8) (2.0001, 8.000800020000002)\n",
      "Approximate derivative for f(x) where x = 2 is 8.000199999998785\n"
     ]
    },
    {
     "data": {
      "image/png": "[encoded data removed]",
      "text/plain": [
       "<Figure size 640x480 with 1 Axes>"
      ]
     },
     "metadata": {},
     "output_type": "display_data"
    }
   ],
   "source": [
    "import matplotlib.pyplot as plt\n",
    "import numpy as np\n",
    "\n",
    "def f(x):\n",
    "    return 2*x**2\n",
    "\n",
    "# np.arange(start, stop, step) to give us smoother line\n",
    "x = np.arange(0, 5, 0.001)\n",
    "y = f(x)\n",
    "\n",
    "plt.plot(x, y)\n",
    "\n",
    "# The point and the \"close enough\" point\n",
    "p2_delta = 0.0001\n",
    "x1 = 2\n",
    "x2 = x1+p2_delta\n",
    "\n",
    "y1 = f(x1)\n",
    "y2 = f(x2)\n",
    "\n",
    "print((x1, y1), (x2, y2))\n",
    "\n",
    "# Derivative approximation and y-intercept for the tangent line\n",
    "approximate_derivative = (y2-y1)/(x2-x1)\n",
    "b = y2 - approximate_derivative*x2\n",
    "\n",
    "# We put the tangent line calculation into a function so we can call\n",
    "# it multiple times for different values of x\n",
    "# approximate_derivative and b are constant for given function\n",
    "# thus calculated once above this function\n",
    "def tangent_line(x):\n",
    "    return approximate_derivative*x + b\n",
    "\n",
    "# plotting the tangent line\n",
    "# +/- 0.9 to draw the tangent line on our graph\n",
    "# then we calculate the y for given x using the tangent line function\n",
    "# Matplotlib will draw a line for us through these points\n",
    "to_plot = [x1-0.9, x1, x1+0.9]\n",
    "plt.plot(to_plot, [tangent_line(i) for i in to_plot])\n",
    "\n",
    "print('Approximate derivative for f(x)',\n",
    "f'where x = {x1} is {approximate_derivative}')\n",
    "plt.show()"
   ]
  },
  {
   "cell_type": "code",
   "execution_count": null,
   "id": "80cc2bd0-a08b-44f9-ab57-62f905c39da7",
   "metadata": {},
   "outputs": [],
   "source": []
  }
 ],
 "metadata": {
  "kernelspec": {
   "display_name": "Python 3 (ipykernel)",
   "language": "python",
   "name": "python3"
  },
  "language_info": {
   "codemirror_mode": {
    "name": "ipython",
    "version": 3
   },
   "file_extension": ".py",
   "mimetype": "text/x-python",
   "name": "python",
   "nbconvert_exporter": "python",
   "pygments_lexer": "ipython3",
   "version": "3.10.8"
  },
  "vscode": {
   "interpreter": {
    "hash": "d52ac610b5cf552a9de1dc71e9c2da6394b21fdb346466d344ab952a57a26ca9"
   }
  }
 },
 "nbformat": 4,
 "nbformat_minor": 5
}
